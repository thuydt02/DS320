{
 "cells": [
  {
   "cell_type": "markdown",
   "id": "a72bcc4a-19f4-4c42-a90a-c1dc249c7921",
   "metadata": {},
   "source": [
    "<b><font size = 2>collections: tuples, lists, strings, sets, dictionaries </font></b><br>\n",
    "<b>we will examine the following tasks:</b><br>\n",
    "#1 accessing: indexing and slicing<br>\n",
    "#2 concatenate<br>\n",
    "#3 repetition<br>\n",
    "#4 membership<br>\n",
    "#5 conversion<br>\n",
    "\n",
    "<b>your turn (at home):</b><br>\n",
    "#6 add an item to a collection<br>\n",
    "#7 remove an item to a collection<br>\n",
    "#8 change the value of an item in a collection (does not apply for immuatble collections such as tuples, strings)<br>\n"
   ]
  },
  {
   "cell_type": "code",
   "execution_count": 19,
   "id": "a258c70f-9a5d-4a0d-893c-8bb2ab432de3",
   "metadata": {},
   "outputs": [
    {
     "name": "stdout",
     "output_type": "stream",
     "text": [
      "1 cc\n",
      "(1, 2) (3, 'aa') ('bb', 'cc')\n",
      "(1, 2, 3, 'aa', 'bb', 'cc', 1, 2, 3)\n",
      "(1, 2, 3, 'aa', 'bb', 'cc', 1, 2, 3, 'aa', 'bb', 'cc')\n",
      "1\n",
      "2\n",
      "3\n",
      "aa\n",
      "bb\n",
      "cc\n",
      "[1, 2, 3, 'aa', 'bb', 'cc']\n",
      "{1, 2, 3, 'cc', 'bb', 'aa'}\n",
      "{1: 'aa', 2: 'bb'}\n"
     ]
    }
   ],
   "source": [
    "#tuples\n",
    "t1, t2 = (1, 2, 3, 'aa', 'bb', 'cc'), (1, 2, 3)\n",
    "\n",
    "#1 accessing: indexing and slicing\n",
    "print(t1[0], t1[-1]) #1 cc\n",
    "print(t1[:2], t1[2:4], t1[4:])\n",
    "\n",
    "#2 concatenate (+), does not support subtraction (-)\n",
    "print(t1 + t2)\n",
    "\n",
    "#3 repetition\n",
    "print(t1*2)\n",
    "\n",
    "#4 membership\n",
    "for e in t1:\n",
    "    print (e)\n",
    "\n",
    "#5 conversion : tuple -> list, set, dict\n",
    "print(list(t1))\n",
    "print(set(t1))\n",
    "t = ((1, 'aa'), (2, 'bb'))\n",
    "print(dict(t))"
   ]
  },
  {
   "cell_type": "code",
   "execution_count": 20,
   "id": "b512e8e5-ac22-4e5d-a0eb-34f086f786d3",
   "metadata": {},
   "outputs": [
    {
     "name": "stdout",
     "output_type": "stream",
     "text": [
      "1 cc\n",
      "[1, 2] [3, 'aa'] ['bb', 'cc']\n",
      "[1, 2, 3, 'aa', 'bb', 'cc', 1, 2, 3]\n",
      "[1, 2, 3, 'aa', 'bb', 'cc', 1, 2, 3, 'aa', 'bb', 'cc']\n",
      "1\n",
      "2\n",
      "3\n",
      "aa\n",
      "bb\n",
      "cc\n",
      "(1, 2, 3, 'aa', 'bb', 'cc')\n",
      "{1, 2, 3, 'cc', 'bb', 'aa'}\n",
      "{1: 'aa', 2: 'bb'}\n"
     ]
    }
   ],
   "source": [
    "#lists\n",
    "t1, t2 = [1, 2, 3, 'aa', 'bb', 'cc'], [1, 2, 3]\n",
    "\n",
    "#1 accessing: indexing and slicing\n",
    "print(t1[0], t1[-1]) #1 cc\n",
    "print(t1[:2], t1[2:4], t1[4:])\n",
    "\n",
    "#2 concatenate (+), does not support subtraction (-) \n",
    "print(t1 + t2)\n",
    "\n",
    "#3 repetition\n",
    "print(t1*2)\n",
    "\n",
    "#4 membership\n",
    "for e in t1:\n",
    "    print (e)\n",
    "\n",
    "#5 conversion : list -> tuple, set, dict\n",
    "print(tuple(t1))\n",
    "print(set(t1 + t2))\n",
    "l = [[1, 'aa'], [2, 'bb']]\n",
    "print(dict(l))"
   ]
  },
  {
   "cell_type": "code",
   "execution_count": 48,
   "id": "81f6b8ef-09f1-4e59-ba83-b84d874e7a5d",
   "metadata": {},
   "outputs": [
    {
     "name": "stdout",
     "output_type": "stream",
     "text": [
      "{1, 2, 3, 'cc', 'bb', 'aa'}\n",
      "1\n",
      "2\n",
      "3\n",
      "cc\n",
      "bb\n",
      "aa\n",
      "(1, 2, 3, 'cc', 'bb', 'aa')\n",
      "[1, 2, 3, 'cc', 'bb', 'aa']\n",
      "{2: 'bb', 1: 'aa'}\n"
     ]
    }
   ],
   "source": [
    "#sets\n",
    "t1, t2 = {1, 2, 3, 'aa', 'bb', 'cc'}, {1, 2, 3}\n",
    "\n",
    "#1 accessing: indexing and slicing: not applicable as sets are unordered\n",
    "\n",
    "#2 concatenate (+), does not support subtraction (-) \n",
    "print(t1.union(t2))\n",
    "\n",
    "#3 repetition: not applicable\n",
    "\n",
    "#4 membership\n",
    "for e in t1:\n",
    "    print (e)\n",
    "\n",
    "#5 conversion : list -> tuple, set, dict\n",
    "print(tuple(t1))\n",
    "print(list(t1))\n",
    "s = {(1, 'aa'), (2, 'bb')}\n",
    "print(dict(s))"
   ]
  },
  {
   "cell_type": "code",
   "execution_count": 24,
   "id": "72d55766-c7b7-4883-b77b-f013fe38166d",
   "metadata": {},
   "outputs": [
    {
     "name": "stdout",
     "output_type": "stream",
     "text": [
      "1 c\n",
      "12 3a bc\n",
      "123abcabc\n",
      "123abc123abc\n",
      "1\n",
      "2\n",
      "3\n",
      "a\n",
      "b\n",
      "c\n",
      "('1', '2', '3', 'a', 'b', 'c')\n",
      "['1', '2', '3', 'a', 'b', 'c']\n",
      "{'b', 'a', '3', 'c', '1', '2'}\n"
     ]
    }
   ],
   "source": [
    "#strings\n",
    "t1, t2 = \"123abc\", \"abc\"\n",
    "\n",
    "#1 accessing: indexing and slicing\n",
    "print(t1[0], t1[-1]) #1 cc\n",
    "print(t1[:2], t1[2:4], t1[4:])\n",
    "\n",
    "#2 concatenate (+), does not support subtraction (-) \n",
    "print(t1 + t2)\n",
    "\n",
    "#3 repetition\n",
    "print(t1*2)\n",
    "\n",
    "#4 membership\n",
    "for e in t1:\n",
    "    print (e)\n",
    "\n",
    "#5 conversion : string -> tuple, list, set (not dict)\n",
    "print(tuple(t1))\n",
    "print(list(t1))\n",
    "print(set(t1 + t2))"
   ]
  },
  {
   "cell_type": "code",
   "execution_count": 41,
   "id": "1f040bf6-c9cb-4dca-8f2e-1a29d37147de",
   "metadata": {},
   "outputs": [
    {
     "name": "stdout",
     "output_type": "stream",
     "text": [
      "aa gg\n",
      "{1: 'aa', 2: 'bb', 3: 'cc', 4: 'ee', 5: 'ff', 6: 'gg', 40: 'ee00'}\n",
      "1\n",
      "2\n",
      "3\n",
      "4\n",
      "5\n",
      "6\n",
      "40\n",
      "(1, 2, 3, 4, 5, 6, 40)\n",
      "[1, 2, 3, 4, 5, 6, 40]\n",
      "{1, 2, 3, 4, 5, 6, 40}\n",
      "dict_keys([1, 2, 3, 4, 5, 6, 40])\n",
      "dict_values(['aa', 'bb', 'cc', 'ee', 'ff', 'gg', 'ee00'])\n",
      "dict_items([(1, 'aa'), (2, 'bb'), (3, 'cc'), (4, 'ee'), (5, 'ff'), (6, 'gg'), (40, 'ee00')])\n"
     ]
    }
   ],
   "source": [
    "#dicts\n",
    "t1, t2 = {1: 'aa', 2: 'bb', 3: 'cc', 4: 'ee', 5: 'ff', 6:'gg'}, {1: 'aa', 2:'bb', 3:'cc', 40: 'ee00'}\n",
    "\n",
    "#1 accessing: by keys (dict is not sequential => no indexing or slicing)\n",
    "print(t1[1], t1[6])\n",
    "\n",
    "#2 concatenate: use the update() method\n",
    "t1.update(t2)\n",
    "print(t1)\n",
    "\n",
    "#3 repetition: does not support since dict cannot have any duplication\n",
    "\n",
    "#4 membership: each element is a tuple of key:value\n",
    "for e in t1:\n",
    "    print (e)\n",
    "\n",
    "#5 cconversion : dict -> tuple, list, set \n",
    "print(tuple(t1))\n",
    "print(list(t1))\n",
    "print(set(t1))\n",
    "\n",
    "#0 more on dicts\n",
    "#---get all the keys, values, and items => returns a list of keys, values, and tuples of (key, value) respectively  \n",
    "print(t1.keys())\n",
    "print(t1.values())\n",
    "print(t1.items())"
   ]
  },
  {
   "cell_type": "code",
   "execution_count": 43,
   "id": "6eda07fd-2a48-4a69-8780-5c89f796021c",
   "metadata": {},
   "outputs": [
    {
     "name": "stdout",
     "output_type": "stream",
     "text": [
      "Counter({'a': 2, 'b': 2, 'c': 2, 'd': 1, 'e': 1, 'f': 1})\n",
      "Counter({'a': 2, 'b': 2, 'c': 2, 'd': 1, 'e': 1, 'f': 1})\n",
      "Counter({'a': 2, 'b': 2, 'c': 2, 'd': 1, 'e': 1, 'f': 1})\n",
      "Counter({'b': 1, 'd': 1, 'e': 1, 'a': 1, 'c': 1, 'f': 1})\n",
      "Counter({'bb': 2, 'aa': 1})\n",
      "Counter({'dogs': 10, 'cats': 2})\n",
      "Counter({'a': 4, 'b': 4, 'c': 4, 'd': 2, 'e': 2, 'f': 2})\n",
      "Counter({'dogs': 10, 'a': 4, 'b': 4, 'c': 4, 'd': 2, 'e': 2, 'f': 2, 'cats': 2})\n"
     ]
    }
   ],
   "source": [
    "# a built-in special dictionay: Counter.\n",
    "# It is for store frequencies of keys\n",
    "# for example you want to count how many times the word \"world\" presents in a sentence \n",
    "\n",
    "from collections import Counter\n",
    "\n",
    "#1 a Counter can be constructed from an iterable object\n",
    "s = \"abcabcdef\"\n",
    "c1 = Counter(s)\n",
    "c2 = Counter(list(s))\n",
    "c3 = Counter(tuple(s))\n",
    "c4 = Counter(set(s))\n",
    "c5 = Counter(dict([('aa', 1),('bb', 2)]))\n",
    "c6 = Counter(cats = 2, dogs = 10)\n",
    "print(c1)\n",
    "print(c2)\n",
    "print(c3)\n",
    "print(c4)\n",
    "print(c5)\n",
    "print(c6)\n",
    "\n",
    "#2 update a Counter by another one\n",
    "\n",
    "c1.update(c2)\n",
    "print(c1)\n",
    "c1.update(c6)\n",
    "print(c1)"
   ]
  },
  {
   "cell_type": "code",
   "execution_count": null,
   "id": "ae4777f5-18bd-4a38-bdee-fcb2caedda1d",
   "metadata": {},
   "outputs": [],
   "source": []
  }
 ],
 "metadata": {
  "kernelspec": {
   "display_name": "DS320 (Python3.10)",
   "language": "python",
   "name": "ds320"
  },
  "language_info": {
   "codemirror_mode": {
    "name": "ipython",
    "version": 3
   },
   "file_extension": ".py",
   "mimetype": "text/x-python",
   "name": "python",
   "nbconvert_exporter": "python",
   "pygments_lexer": "ipython3",
   "version": "3.10.8"
  }
 },
 "nbformat": 4,
 "nbformat_minor": 5
}
