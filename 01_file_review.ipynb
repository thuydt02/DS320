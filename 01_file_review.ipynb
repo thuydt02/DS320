{
 "cells": [
  {
   "cell_type": "markdown",
   "id": "8664ef51-76cf-4ff7-b6b6-899b454b297a",
   "metadata": {},
   "source": [
    "<b><font size = 2>Working with text files</font></b><br>\n",
    "<b>We will examine the following tasks</b><br>\n",
    "#1 <i><u>read</i></u> data from a text file into a list<br>\n",
    "#2 <i><u>write</i></u> data from a list to a text file<br>\n",
    "\n",
    "steps to work with a file<br>\n",
    "#1 open the file to read/write : call the function open(file_name, 'r'/'w')<br>\n",
    "#2 read data from /write data to the file<br>\n",
    "#3 close the file: call close(the file)<br>\n",
    "\n",
    "<b>your turn:</b><br>\n",
    "    use lists and files to create a solution of assignment #1"
   ]
  },
  {
   "cell_type": "code",
   "execution_count": 2,
   "id": "4687b421-9124-4870-b6c7-9760dd77e84a",
   "metadata": {},
   "outputs": [
    {
     "name": "stdout",
     "output_type": "stream",
     "text": [
      "[[1.0, 2.0, 3.0], [4.0, 5.0, 6.0], [7.0, 8.0, 9.0]]\n"
     ]
    }
   ],
   "source": [
    "#prob1: read the data from a text file into a list\n",
    "def read_file_to_list(fname):\n",
    "    # read the data in the file indicated by fname (string),\n",
    "    # output: a list of lists, here each sublist stores numbers \n",
    "    # in a line of the file  \n",
    "    \n",
    "    #1\n",
    "    fin = open(fname, 'r')\n",
    "    \n",
    "    #2\n",
    "    l = []\n",
    "    while True:\n",
    "        line = fin.readline()\n",
    "        if line == \"\":\n",
    "            break\n",
    "        line = line.strip(\"\\n\")\n",
    "        numbers = [float(e) for e in line.split(\" \")]\n",
    "        l.append(numbers)\n",
    "    #3\n",
    "    fin.close()\n",
    "    return l\n",
    "\n",
    "#usage\n",
    "f1 = \"./data/file1.txt\"\n",
    "print(read_file_to_list(f1))\n",
    "        \n",
    "        "
   ]
  },
  {
   "cell_type": "code",
   "execution_count": 6,
   "id": "f7a9c3ee-4ac3-467e-9dad-81ad9ed41b09",
   "metadata": {},
   "outputs": [
    {
     "name": "stdout",
     "output_type": "stream",
     "text": [
      "{'11': (4.0, 3.8, 3.9, 3.9, 4.0), '22': (4.0, 3.5, 3.4, 3.9, 4.0), '33': (4.0, 3.7, 3.7, 3.9, 4.0), '44': (3.5, 3.1, 3.9, 3.7, 4.0), '55': (3.0, 3.0, 3.9, 3.8, 4.0)}\n"
     ]
    }
   ],
   "source": [
    "#prob2: read the data from a csv file into a dict\n",
    "def read_file_to_dict(fname):\n",
    "    # read the data in the file indicated by fname (string),\n",
    "    # output: a dict of key:value, here key is the first column\n",
    "    # value is a tuple of the remainding columns  \n",
    "    \n",
    "    #1\n",
    "    fin = open(fname, 'r')\n",
    "    \n",
    "    #2\n",
    "    d = dict()\n",
    "    line = fin.readline()\n",
    "    \n",
    "    if line == \"\":\n",
    "        fin.close()\n",
    "        return d\n",
    "    \n",
    "    while True:\n",
    "        line = fin.readline()\n",
    "        if line == \"\":\n",
    "            break\n",
    "        line = line.strip(\"\\n\")\n",
    "        items = line.split(\",\")\n",
    "        \n",
    "        key = items[0]\n",
    "        value = tuple([float(e) for e in items[1:]])\n",
    "        d[key] = value\n",
    "        \n",
    "           #3\n",
    "    fin.close()\n",
    "    return d\n",
    "\n",
    "#usage\n",
    "f1 = \"./data/grade.csv\"\n",
    "print(read_file_to_dict(f1))\n"
   ]
  },
  {
   "cell_type": "code",
   "execution_count": null,
   "id": "af86c87b-b151-4eea-87b2-e0872637b872",
   "metadata": {},
   "outputs": [],
   "source": []
  }
 ],
 "metadata": {
  "kernelspec": {
   "display_name": "DS320 (Python3.10)",
   "language": "python",
   "name": "ds320"
  },
  "language_info": {
   "codemirror_mode": {
    "name": "ipython",
    "version": 3
   },
   "file_extension": ".py",
   "mimetype": "text/x-python",
   "name": "python",
   "nbconvert_exporter": "python",
   "pygments_lexer": "ipython3",
   "version": "3.9.12"
  }
 },
 "nbformat": 4,
 "nbformat_minor": 5
}
