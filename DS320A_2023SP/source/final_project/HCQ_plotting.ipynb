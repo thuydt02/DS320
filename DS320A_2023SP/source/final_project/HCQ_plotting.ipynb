{
 "cells": [
  {
   "cell_type": "markdown",
   "id": "30a09eb1-263b-4534-bfdb-bb445b871013",
   "metadata": {
    "nbgrader": {
     "grade": false,
     "grade_id": "cell-e3a29ef147e13cb4",
     "locked": true,
     "schema_version": 3,
     "solution": false,
     "task": false
    },
    "tags": []
   },
   "source": [
    "DS320 Spring 2023: Final Project\n",
    "\n",
    "Posted on Wed 05/03/ 23, Due on Mon 05/15/23 at 11:59 PM\n",
    "\n",
    "We continue with the HCQ dataset in the midterm, and you are provided few more datasets: the Google Trend score of HCQ searching in 2020, tweets with sentiments, and geoMap.\n",
    "\n",
    "You will use the clean HCQ dataset you have done for the midterm project. Do not upload the dataset to your Jupyter Luther since it is big. You need to download this notebook and work on it with Google Colab.\n",
    "\n",
    "There are 10 tasks, each is worth 10 points. The bonus task is worth 20 points.\n",
    "\n",
    "Note: I will mannually grade your code, so no test cases will be provided, but I can give you the expectation of the outcomes for tasks as I can.\n"
   ]
  },
  {
   "cell_type": "markdown",
   "id": "7a7d68df-576f-4f86-aa0d-59aab6479278",
   "metadata": {
    "nbgrader": {
     "grade": false,
     "grade_id": "cell-8e08f541902721d0",
     "locked": true,
     "schema_version": 3,
     "solution": false,
     "task": false
    },
    "tags": []
   },
   "source": [
    "# Import libraries"
   ]
  },
  {
   "cell_type": "code",
   "execution_count": 1,
   "id": "f01e13b1-7f68-4244-9928-17e00feec0fb",
   "metadata": {
    "nbgrader": {
     "grade": false,
     "grade_id": "cell-c642f342df90c2dd",
     "locked": true,
     "schema_version": 3,
     "solution": false,
     "task": false
    },
    "tags": []
   },
   "outputs": [],
   "source": [
    "#libraries\n",
    "import pandas as pd\n",
    "import matplotlib.pyplot as plt\n",
    "import seaborn as sns"
   ]
  },
  {
   "cell_type": "markdown",
   "id": "e1acd71e-68e8-4d3c-a249-c14cfe8515db",
   "metadata": {
    "nbgrader": {
     "grade": false,
     "grade_id": "cell-ff8adaf9d7d36c9f",
     "locked": true,
     "schema_version": 3,
     "solution": false,
     "task": false
    },
    "tags": []
   },
   "source": [
    "## Task 1: \n",
    "\n",
    "We want to see the online users’ reaction patterns in the time\n",
    "domain, including (a) Number of tweets, favorites on Twitter, (b) Google\n",
    "keyword search score.\n",
    "\n",
    "Create the following plot. You can take the events of the plot from the HCQ_event.csv file. Your figure should look similar (though not necessarily identical)\n",
    "\n",
    "![Task 1](./images/task1.png)"
   ]
  },
  {
   "cell_type": "code",
   "execution_count": null,
   "id": "7a8716c7-8d36-4508-b547-72c745ef934e",
   "metadata": {
    "nbgrader": {
     "grade": true,
     "grade_id": "cell-b53538359c33dc70",
     "locked": false,
     "points": 10,
     "schema_version": 3,
     "solution": true,
     "task": false
    },
    "tags": []
   },
   "outputs": [],
   "source": [
    "###BEGIN SOLUTION\n",
    "###END SOLUTION"
   ]
  },
  {
   "cell_type": "markdown",
   "id": "cb0295be-a64d-4880-9abb-1da4a773463c",
   "metadata": {
    "nbgrader": {
     "grade": false,
     "grade_id": "cell-06109066ee986384",
     "locked": true,
     "schema_version": 3,
     "solution": false,
     "task": false
    },
    "tags": []
   },
   "source": [
    "## Task 2: \n",
    "\n",
    "We want to look closer at the number of tweets and favorites sent out on the five above days (the days you made annotations on) \n",
    "\n",
    "Create the following plot. Your figure should look similar (though not necessarily identical)\n",
    "\n",
    "In this plot, \n",
    "\n",
    "<b>\n",
    "the teal bars = #tweets on an event day / mean of #tweets on a \n",
    "day\n",
    "\n",
    "the salmon bars = #favorites on an event day / mean of #favorites on a \n",
    "day\n",
    "</b>\n",
    "![Task 2](./images/task2.png)"
   ]
  },
  {
   "cell_type": "code",
   "execution_count": null,
   "id": "f92c7e12-f2d2-48fa-a6c6-35cc7a588981",
   "metadata": {
    "nbgrader": {
     "grade": true,
     "grade_id": "cell-f1e24ec6856dd8f6",
     "locked": false,
     "points": 10,
     "schema_version": 3,
     "solution": true,
     "task": false
    },
    "tags": []
   },
   "outputs": [],
   "source": [
    "###BEGIN SOLUTION\n",
    "###END SOLUTION"
   ]
  },
  {
   "cell_type": "markdown",
   "id": "64534ba6-1fbe-4bb7-a2c7-6582302335e7",
   "metadata": {
    "nbgrader": {
     "grade": false,
     "grade_id": "cell-ef79f9a710b9b6eb",
     "locked": true,
     "schema_version": 3,
     "solution": false,
     "task": false
    },
    "tags": []
   },
   "source": [
    "## Task 3: \n",
    "\n",
    "We want to see the distributions of reply_count and retweet_count for a tweet.\n",
    "\n",
    "Create the following plot. Your figure should look similar (though not necessarily identical)\n",
    "\n",
    "<i><b>What insights do you recognize from the plot?</b></i>\n",
    "\n",
    "![Task 3](./images/task3.png)"
   ]
  },
  {
   "cell_type": "code",
   "execution_count": null,
   "id": "bfad65d7-55d6-4dc1-b1b4-dd7830e01bbc",
   "metadata": {
    "nbgrader": {
     "grade": true,
     "grade_id": "cell-7b4859e56fa9a4cc",
     "locked": false,
     "points": 10,
     "schema_version": 3,
     "solution": true,
     "task": false
    },
    "tags": []
   },
   "outputs": [],
   "source": [
    "###BEGIN SOLUTION\n",
    "###END SOLUTION"
   ]
  },
  {
   "cell_type": "markdown",
   "id": "4bb1c04f-92b1-4813-a68b-05a9cd9f0f32",
   "metadata": {
    "nbgrader": {
     "grade": false,
     "grade_id": "cell-0cc58363d191b2ee",
     "locked": true,
     "schema_version": 3,
     "solution": false,
     "task": false
    },
    "tags": []
   },
   "source": [
    "## Task 4: \n",
    "\n",
    "We want to look see if there is any patterns of posted tweets and favorites over days of weeks.\n",
    "\n",
    "Create the following plot. Your figure should look similar (though not necessarily identical)\n",
    "\n",
    "<i><b>What insights do you recognize from the plot?</b></i>\n",
    "\n",
    "![Task 4](./images/task4.png)"
   ]
  },
  {
   "cell_type": "code",
   "execution_count": null,
   "id": "3fa6d9fd-21c0-4b92-b8e0-a732800ad7af",
   "metadata": {
    "nbgrader": {
     "grade": true,
     "grade_id": "cell-078310a4c7614968",
     "locked": false,
     "points": 10,
     "schema_version": 3,
     "solution": true,
     "task": false
    },
    "tags": []
   },
   "outputs": [],
   "source": [
    "###BEGIN SOLUTION\n",
    "###END SOLUTION"
   ]
  },
  {
   "cell_type": "markdown",
   "id": "6110d971-434c-4be4-a3cc-1909ce11a134",
   "metadata": {
    "nbgrader": {
     "grade": false,
     "grade_id": "cell-962496e3dd4cf2c7",
     "locked": true,
     "schema_version": 3,
     "solution": false,
     "task": false
    },
    "tags": []
   },
   "source": [
    "## Task 5: \n",
    "\n",
    "We want to look see if there is any relationships between the number of tweets and the number of favorites sending out on a day.\n",
    "\n",
    "Create the following plot. Your figure should look similar (though not necessarily identical)\n",
    "\n",
    "<i><b>What insights do you recognize from the plot?</b></i>\n",
    "\n",
    "![Task 5](./images/task5.png)"
   ]
  },
  {
   "cell_type": "markdown",
   "id": "87c74ed7-872e-4891-9bea-b7088242ca27",
   "metadata": {
    "nbgrader": {
     "grade": false,
     "grade_id": "cell-4cd705af1f967d6e",
     "locked": true,
     "schema_version": 3,
     "solution": false,
     "task": false
    },
    "tags": []
   },
   "source": [
    "## Task 6: \n",
    "\n",
    "Use the geoMap.csv file to produce a heatmap of Google HCQ searching score over states in the US.  \n",
    "\n",
    "Create the following plot. Your figure should look similar (though not necessarily identical)\n",
    "\n",
    "![Task 6](./images/task6.png)"
   ]
  },
  {
   "cell_type": "code",
   "execution_count": null,
   "id": "f3966e44-c555-4d8e-8a57-dd1a3c67e1cb",
   "metadata": {
    "nbgrader": {
     "grade": true,
     "grade_id": "cell-59281c3480647bbe",
     "locked": false,
     "points": 10,
     "schema_version": 3,
     "solution": true,
     "task": false
    },
    "tags": []
   },
   "outputs": [],
   "source": [
    "###BEGIN SOLUTION\n",
    "###END SOLUTION"
   ]
  },
  {
   "cell_type": "markdown",
   "id": "087cf1fe-36c6-48d0-8876-08d8000814ed",
   "metadata": {
    "nbgrader": {
     "grade": false,
     "grade_id": "cell-b3aabe8e7ff4f3a4",
     "locked": true,
     "schema_version": 3,
     "solution": false,
     "task": false
    },
    "tags": []
   },
   "source": [
    "## Task 7: \n",
    "\n",
    "Use the tweets_manual_classifying.csv file to produce wordcloud plots\n",
    "\n",
    "(a) Most frequently used words, \n",
    "\n",
    "(b) [Bonus: 20 points for this plot] Positive vs. negative words using ”Bing” lexicon\n",
    "\n",
    "Create the following plot. \n",
    "\n",
    "Your figure should look similar (though not necessarily identical)\n",
    "\n",
    "![Task 7](./images/task7.png)"
   ]
  },
  {
   "cell_type": "code",
   "execution_count": null,
   "id": "2f994be9-c62b-4934-b624-59622f7e7954",
   "metadata": {
    "nbgrader": {
     "grade": true,
     "grade_id": "cell-3440aef72574caec",
     "locked": false,
     "points": 10,
     "schema_version": 3,
     "solution": true,
     "task": false
    },
    "tags": []
   },
   "outputs": [],
   "source": [
    "###BEGIN SOLUTION\n",
    "###END SOLUTION"
   ]
  },
  {
   "cell_type": "markdown",
   "id": "9d28c30f-f628-46a3-80fc-5248608cc78c",
   "metadata": {
    "nbgrader": {
     "grade": false,
     "grade_id": "cell-cc0bd17e9c1f1737",
     "locked": true,
     "schema_version": 3,
     "solution": false,
     "task": false
    },
    "tags": []
   },
   "source": [
    "## Task 8, 9, and 10\n",
    "\n",
    "Imagine that you are trying to gain insights from the HCQ dataset. You have done 7 plots. Take a moment to review what you get from those plots: patterns, trends, relationships, ...\n",
    "\n",
    "Now you will explore things yourself. Create 03 plots for task 8, 9, and 10. For each plot, justify why you want to create it. You may not see any patterns but it is worth it as you know no patterns there.\n",
    "\n",
    "You can use some hints I put here but you do not have to. I would love to see your exploration.\n",
    "\n",
    "Hints:\n",
    "\n",
    "#1 Think about the State column you created in the midterm project. We have not used it.\n",
    "\n",
    "#2 We have not used a period of a month\n"
   ]
  },
  {
   "cell_type": "code",
   "execution_count": null,
   "id": "20730772-f5f4-4ff3-a1d9-4ce06e07434d",
   "metadata": {
    "nbgrader": {
     "grade": true,
     "grade_id": "cell-57f6ec17ee62a6e7",
     "locked": false,
     "points": 0,
     "schema_version": 3,
     "solution": true,
     "task": false
    },
    "tags": []
   },
   "outputs": [],
   "source": [
    "###BEGIN SOLUTION\n",
    "###END SOLUTION"
   ]
  }
 ],
 "metadata": {
  "kernelspec": {
   "display_name": "DS320 (Python3.10)",
   "language": "python",
   "name": "ds320"
  },
  "language_info": {
   "codemirror_mode": {
    "name": "ipython",
    "version": 3
   },
   "file_extension": ".py",
   "mimetype": "text/x-python",
   "name": "python",
   "nbconvert_exporter": "python",
   "pygments_lexer": "ipython3",
   "version": "3.10.8"
  }
 },
 "nbformat": 4,
 "nbformat_minor": 5
}
