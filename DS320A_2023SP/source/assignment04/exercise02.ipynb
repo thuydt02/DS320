{
 "cells": [
  {
   "cell_type": "markdown",
   "id": "42c4b097-05a8-404e-8026-40717f61f18c",
   "metadata": {
    "nbgrader": {
     "grade": false,
     "grade_id": "cell-8d69f67cf98f060e",
     "locked": true,
     "schema_version": 3,
     "solution": false,
     "task": false
    },
    "tags": []
   },
   "source": [
    "# DS320 Spring 2023: excercise 02\n",
    "<b> posted on Friday 02/24/23, due date is Thusday 03/02/23, at 8:00 AM </b><br>\n",
    "\n",
    "This exercise is to work with pandas: <u>selection, sorting, adding new columns and computing values</u>.\n",
    "\n",
    "There are 11 tasks, each is worth 10 points. You will get 100/100 for the maximum score of this exercise.\n",
    "\n",
    "The last task is bonus. If you get 1xy points, you can reserve xy points for any other exercises.\n",
    "\n",
    "For each `task i` create a variable `ti` to store the outcomes of that task. For example, store the outcome of `task 01` in a variable, called `t1`.\n",
    "\n",
    "Note: I will mannually grade your code, so no test case will be provided, but I can give you the expectation of the outcomes for each task."
   ]
  },
  {
   "cell_type": "code",
   "execution_count": 60,
   "id": "5cadc7a0-ce0e-4081-ad6a-773c8baad98b",
   "metadata": {
    "nbgrader": {
     "grade": true,
     "grade_id": "cell-27b6077bf8058ab1",
     "locked": false,
     "points": 0,
     "schema_version": 3,
     "solution": true,
     "task": false
    },
    "tags": []
   },
   "outputs": [
    {
     "name": "stdout",
     "output_type": "stream",
     "text": [
      "(#rows, #cols):  (1000, 18)\n"
     ]
    },
    {
     "data": {
      "text/html": [
       "<div>\n",
       "<style scoped>\n",
       "    .dataframe tbody tr th:only-of-type {\n",
       "        vertical-align: middle;\n",
       "    }\n",
       "\n",
       "    .dataframe tbody tr th {\n",
       "        vertical-align: top;\n",
       "    }\n",
       "\n",
       "    .dataframe thead th {\n",
       "        text-align: right;\n",
       "    }\n",
       "</style>\n",
       "<table border=\"1\" class=\"dataframe\">\n",
       "  <thead>\n",
       "    <tr style=\"text-align: right;\">\n",
       "      <th></th>\n",
       "      <th>company</th>\n",
       "      <th>rank</th>\n",
       "      <th>rank_change</th>\n",
       "      <th>revenue</th>\n",
       "      <th>profit</th>\n",
       "      <th>num. of employees</th>\n",
       "      <th>sector</th>\n",
       "      <th>city</th>\n",
       "      <th>state</th>\n",
       "      <th>newcomer</th>\n",
       "      <th>ceo_founder</th>\n",
       "      <th>ceo_woman</th>\n",
       "      <th>profitable</th>\n",
       "      <th>prev_rank</th>\n",
       "      <th>CEO</th>\n",
       "      <th>Website</th>\n",
       "      <th>Ticker</th>\n",
       "      <th>Market Cap</th>\n",
       "    </tr>\n",
       "  </thead>\n",
       "  <tbody>\n",
       "    <tr>\n",
       "      <th>0</th>\n",
       "      <td>Walmart</td>\n",
       "      <td>1</td>\n",
       "      <td>0.0</td>\n",
       "      <td>572754.0</td>\n",
       "      <td>13673.0</td>\n",
       "      <td>2300000.0</td>\n",
       "      <td>Retailing</td>\n",
       "      <td>Bentonville</td>\n",
       "      <td>AR</td>\n",
       "      <td>no</td>\n",
       "      <td>no</td>\n",
       "      <td>no</td>\n",
       "      <td>yes</td>\n",
       "      <td>1.0</td>\n",
       "      <td>C. Douglas McMillon</td>\n",
       "      <td>https://www.stock.walmart.com</td>\n",
       "      <td>WMT</td>\n",
       "      <td>352037</td>\n",
       "    </tr>\n",
       "    <tr>\n",
       "      <th>1</th>\n",
       "      <td>Amazon</td>\n",
       "      <td>2</td>\n",
       "      <td>0.0</td>\n",
       "      <td>469822.0</td>\n",
       "      <td>33364.0</td>\n",
       "      <td>1608000.0</td>\n",
       "      <td>Retailing</td>\n",
       "      <td>Seattle</td>\n",
       "      <td>WA</td>\n",
       "      <td>no</td>\n",
       "      <td>no</td>\n",
       "      <td>no</td>\n",
       "      <td>yes</td>\n",
       "      <td>2.0</td>\n",
       "      <td>Andrew R. Jassy</td>\n",
       "      <td>www.amazon.com</td>\n",
       "      <td>AMZN</td>\n",
       "      <td>1202717</td>\n",
       "    </tr>\n",
       "    <tr>\n",
       "      <th>2</th>\n",
       "      <td>Apple</td>\n",
       "      <td>3</td>\n",
       "      <td>0.0</td>\n",
       "      <td>365817.0</td>\n",
       "      <td>94680.0</td>\n",
       "      <td>154000.0</td>\n",
       "      <td>Technology</td>\n",
       "      <td>Cupertino</td>\n",
       "      <td>CA</td>\n",
       "      <td>no</td>\n",
       "      <td>no</td>\n",
       "      <td>no</td>\n",
       "      <td>yes</td>\n",
       "      <td>3.0</td>\n",
       "      <td>Timothy D. Cook</td>\n",
       "      <td>www.apple.com</td>\n",
       "      <td>AAPL</td>\n",
       "      <td>2443962</td>\n",
       "    </tr>\n",
       "    <tr>\n",
       "      <th>3</th>\n",
       "      <td>CVS Health</td>\n",
       "      <td>4</td>\n",
       "      <td>0.0</td>\n",
       "      <td>292111.0</td>\n",
       "      <td>7910.0</td>\n",
       "      <td>258000.0</td>\n",
       "      <td>Health Care</td>\n",
       "      <td>Woonsocket</td>\n",
       "      <td>RI</td>\n",
       "      <td>no</td>\n",
       "      <td>no</td>\n",
       "      <td>yes</td>\n",
       "      <td>yes</td>\n",
       "      <td>4.0</td>\n",
       "      <td>Karen Lynch</td>\n",
       "      <td>https://www.cvshealth.com</td>\n",
       "      <td>CVS</td>\n",
       "      <td>125204</td>\n",
       "    </tr>\n",
       "    <tr>\n",
       "      <th>4</th>\n",
       "      <td>UnitedHealth Group</td>\n",
       "      <td>5</td>\n",
       "      <td>0.0</td>\n",
       "      <td>287597.0</td>\n",
       "      <td>17285.0</td>\n",
       "      <td>350000.0</td>\n",
       "      <td>Health Care</td>\n",
       "      <td>Minnetonka</td>\n",
       "      <td>MN</td>\n",
       "      <td>no</td>\n",
       "      <td>no</td>\n",
       "      <td>no</td>\n",
       "      <td>yes</td>\n",
       "      <td>5.0</td>\n",
       "      <td>Andrew P. Witty</td>\n",
       "      <td>www.unitedhealthgroup.com</td>\n",
       "      <td>UNH</td>\n",
       "      <td>500468</td>\n",
       "    </tr>\n",
       "  </tbody>\n",
       "</table>\n",
       "</div>"
      ],
      "text/plain": [
       "              company  rank  rank_change   revenue   profit  \\\n",
       "0             Walmart     1          0.0  572754.0  13673.0   \n",
       "1              Amazon     2          0.0  469822.0  33364.0   \n",
       "2               Apple     3          0.0  365817.0  94680.0   \n",
       "3          CVS Health     4          0.0  292111.0   7910.0   \n",
       "4  UnitedHealth Group     5          0.0  287597.0  17285.0   \n",
       "\n",
       "   num. of employees       sector         city state newcomer ceo_founder  \\\n",
       "0          2300000.0    Retailing  Bentonville    AR       no          no   \n",
       "1          1608000.0    Retailing      Seattle    WA       no          no   \n",
       "2           154000.0   Technology    Cupertino    CA       no          no   \n",
       "3           258000.0  Health Care   Woonsocket    RI       no          no   \n",
       "4           350000.0  Health Care   Minnetonka    MN       no          no   \n",
       "\n",
       "  ceo_woman profitable prev_rank                  CEO  \\\n",
       "0        no        yes       1.0  C. Douglas McMillon   \n",
       "1        no        yes       2.0      Andrew R. Jassy   \n",
       "2        no        yes       3.0      Timothy D. Cook   \n",
       "3       yes        yes       4.0          Karen Lynch   \n",
       "4        no        yes       5.0      Andrew P. Witty   \n",
       "\n",
       "                         Website Ticker Market Cap  \n",
       "0  https://www.stock.walmart.com    WMT     352037  \n",
       "1                 www.amazon.com   AMZN    1202717  \n",
       "2                  www.apple.com   AAPL    2443962  \n",
       "3      https://www.cvshealth.com    CVS     125204  \n",
       "4      www.unitedhealthgroup.com    UNH     500468  "
      ]
     },
     "execution_count": 60,
     "metadata": {},
     "output_type": "execute_result"
    }
   ],
   "source": [
    "#The following code is to read a csv file into a dataframe. \n",
    "#Take a look at the summary and 5 first rows of the data. You then will\n",
    "#work on that dataframe.\n",
    "\n",
    "\n",
    "#You need to run this code cell first\n",
    "\n",
    "import pandas as pd\n",
    "df_fortune = pd.read_csv(\"./fortune1000.csv\")\n",
    "\n",
    "print(\"(#rows, #cols): \", df_fortune.shape)\n",
    "df_fortune.head(5)"
   ]
  },
  {
   "cell_type": "markdown",
   "id": "9b03dfa2-f04b-4558-8270-4b4450578125",
   "metadata": {
    "nbgrader": {
     "grade": false,
     "grade_id": "cell-4288ddb9db580d78",
     "locked": true,
     "schema_version": 3,
     "solution": false,
     "task": false
    },
    "tags": []
   },
   "source": [
    "# Task 01: select one column\n",
    "Select names of all companies<br>\n",
    "Expectation: a Series, #values = 1000"
   ]
  },
  {
   "cell_type": "code",
   "execution_count": 61,
   "id": "7a6d4e00-da34-43a6-bc16-17d8ff93800b",
   "metadata": {
    "nbgrader": {
     "grade": true,
     "grade_id": "cell-d9e48f1845e7bf6b",
     "locked": false,
     "points": 10,
     "schema_version": 3,
     "solution": true,
     "task": false
    },
    "tags": []
   },
   "outputs": [
    {
     "name": "stdout",
     "output_type": "stream",
     "text": [
      "1000\n"
     ]
    }
   ],
   "source": [
    "###BEGIN SOLUTION\n",
    "t1 = df_fortune['company']\n",
    "print (len(t1))\n",
    "###END SOLUTION"
   ]
  },
  {
   "cell_type": "markdown",
   "id": "848561f3-ee3d-4f1a-a425-30a4ef7819b2",
   "metadata": {
    "nbgrader": {
     "grade": false,
     "grade_id": "cell-4514a62e5d8b2084",
     "locked": true,
     "schema_version": 3,
     "solution": false,
     "task": false
    },
    "tags": []
   },
   "source": [
    "# Task 02: select more than one column\n",
    "Create a dataframe containing 3 columns: company, rank, and profit<br>\n",
    "Expectation: a dataframe, shape = (1000, 3)\n"
   ]
  },
  {
   "cell_type": "code",
   "execution_count": 62,
   "id": "22cf19df-74ad-43e4-b22d-5eaa7a4d6447",
   "metadata": {
    "nbgrader": {
     "grade": true,
     "grade_id": "cell-ee7cd6382b0a7024",
     "locked": false,
     "points": 10,
     "schema_version": 3,
     "solution": true,
     "task": false
    },
    "tags": []
   },
   "outputs": [
    {
     "name": "stdout",
     "output_type": "stream",
     "text": [
      "(1000, 3)\n"
     ]
    }
   ],
   "source": [
    "###BEGIN SOLUTION\n",
    "t2 = df_fortune[['company', 'rank', 'profit']]\n",
    "print(t2.shape)\n",
    "###END SOLUTION"
   ]
  },
  {
   "cell_type": "markdown",
   "id": "66d15c22-f03e-42fb-9e00-5d5a6068e95f",
   "metadata": {
    "nbgrader": {
     "grade": false,
     "grade_id": "cell-dc46b108e6d24ec6",
     "locked": true,
     "schema_version": 3,
     "solution": false,
     "task": false
    },
    "tags": []
   },
   "source": [
    "# Task 03: select rows\n",
    "Create a dataframe containing all rows without rank change, e.g., rank_change = 0<br>\n",
    "Hint: think about boolean indexing, you need to create a Series of True/Flase values, each value is associated with a row: True = you will take that row, False = you will not.<br>\n",
    "For example, df_fortune['state'] = 'IA' will create a Series of True/False values: True if state of a company = 'IA', False otherwise.<br> \n",
    "Expectation: a dataframe with shape = (544, 18)\n"
   ]
  },
  {
   "cell_type": "code",
   "execution_count": 63,
   "id": "3f633a4b-6dd0-49e4-8dbd-3101a832d45a",
   "metadata": {
    "nbgrader": {
     "grade": true,
     "grade_id": "cell-7723af80a9766a3e",
     "locked": false,
     "points": 10,
     "schema_version": 3,
     "solution": true,
     "task": false
    },
    "tags": []
   },
   "outputs": [
    {
     "name": "stdout",
     "output_type": "stream",
     "text": [
      "(544, 18)\n"
     ]
    }
   ],
   "source": [
    "###BEGIN SOLUTION\n",
    "t3 = df_fortune[df_fortune.rank_change == 0]\n",
    "print(t3.shape)\n",
    "###END SOLUTION"
   ]
  },
  {
   "cell_type": "markdown",
   "id": "6a85ed3d-4b18-4c6e-9b05-9dc22389ba70",
   "metadata": {
    "nbgrader": {
     "grade": false,
     "grade_id": "cell-964422c1598629e3",
     "locked": true,
     "schema_version": 3,
     "solution": false,
     "task": false
    },
    "tags": []
   },
   "source": [
    "# Task 04: select both rows and columns\n",
    "Create a dataframe containing companies' names and revenue where revenue is greater than 100,000 <br>\n",
    "Expectation: a dataframe with shape = (33, 2)"
   ]
  },
  {
   "cell_type": "code",
   "execution_count": 64,
   "id": "cfb5db24-3580-4c4e-b2c4-9a7ea81d4254",
   "metadata": {
    "nbgrader": {
     "grade": true,
     "grade_id": "cell-cc9b589e55b44ce3",
     "locked": false,
     "points": 10,
     "schema_version": 3,
     "solution": true,
     "task": false
    },
    "tags": []
   },
   "outputs": [
    {
     "name": "stdout",
     "output_type": "stream",
     "text": [
      "(33, 2)\n"
     ]
    }
   ],
   "source": [
    "###BEGIN SOLUTION\n",
    "t4 = df_fortune[df_fortune['revenue'] > 100000][['company', 'revenue']]\n",
    "print(t4.shape)\n",
    "###END SOLUTION"
   ]
  },
  {
   "cell_type": "markdown",
   "id": "59117552-1761-419c-9d35-f322f63f9456",
   "metadata": {
    "nbgrader": {
     "grade": false,
     "grade_id": "cell-6d5cb0f812abbbe1",
     "locked": true,
     "schema_version": 3,
     "solution": false,
     "task": false
    },
    "tags": []
   },
   "source": [
    "# Task 05: select both rows and columns (more)\n",
    "Create a dataframe containing company, num. of employees, and profit where num. of employees is greater than 10,000 and profit is greater than 50,000<br>\n",
    "Expectation: a dataframe with shape = (4, 3)"
   ]
  },
  {
   "cell_type": "code",
   "execution_count": 65,
   "id": "09ea63eb-ca8d-4dfd-8eb0-291b224080b3",
   "metadata": {
    "nbgrader": {
     "grade": true,
     "grade_id": "cell-45228a719142685c",
     "locked": false,
     "points": 10,
     "schema_version": 3,
     "solution": true,
     "task": false
    },
    "tags": []
   },
   "outputs": [
    {
     "name": "stdout",
     "output_type": "stream",
     "text": [
      "(4, 3)\n"
     ]
    }
   ],
   "source": [
    "###BEGIN SOLUTION\n",
    "t5 = df_fortune[(df_fortune['num. of employees'] > 10000) & (df_fortune['profit'] > 50000)][['company','num. of employees','profit']]\n",
    "print(t5.shape)\n",
    "\n",
    "###END SOLUTION"
   ]
  },
  {
   "cell_type": "markdown",
   "id": "48df0661-246e-495c-b7ce-1c80b230e346",
   "metadata": {
    "nbgrader": {
     "grade": false,
     "grade_id": "cell-935e752c3cba1e96",
     "locked": true,
     "schema_version": 3,
     "solution": false,
     "task": false
    },
    "tags": []
   },
   "source": [
    "# Task 06: select both rows and columns (more)\n",
    "\n",
    "Create a dataframe of profitable companies (e.g., profitable = yes) with company, profit, and state\n",
    "Expectation: a dataframe with shape = (883, 3)\n"
   ]
  },
  {
   "cell_type": "code",
   "execution_count": 72,
   "id": "f532464c-1e04-444b-aca3-89e0550af6bd",
   "metadata": {
    "nbgrader": {
     "grade": true,
     "grade_id": "cell-ae3c34cd2e9eeea2",
     "locked": false,
     "points": 10,
     "schema_version": 3,
     "solution": true,
     "task": false
    },
    "tags": []
   },
   "outputs": [
    {
     "name": "stdout",
     "output_type": "stream",
     "text": [
      "(883, 3)\n"
     ]
    }
   ],
   "source": [
    "###BEGIN SOLUTION\n",
    "t6 = df_fortune[df_fortune['profitable'] == 'yes'][['company', 'profit', 'state']]\n",
    "print(t6.shape)\n",
    "\n",
    "###END SOLUTION\n"
   ]
  },
  {
   "cell_type": "markdown",
   "id": "fbd06a5f-1bcf-4259-838c-c5eb243ff736",
   "metadata": {
    "nbgrader": {
     "grade": false,
     "grade_id": "cell-7b54ae3ac27f05c8",
     "locked": true,
     "schema_version": 3,
     "solution": false,
     "task": false
    },
    "tags": []
   },
   "source": [
    "# Task 07: more on selection\n",
    "The profit of Apple \n",
    "Expectation: a scalar"
   ]
  },
  {
   "cell_type": "code",
   "execution_count": 67,
   "id": "0659778a-1bd7-4ee0-a72d-ca6fc9f4151a",
   "metadata": {
    "nbgrader": {
     "grade": true,
     "grade_id": "cell-2fe0d8ed1e17a697",
     "locked": false,
     "points": 10,
     "schema_version": 3,
     "solution": true,
     "task": false
    },
    "tags": []
   },
   "outputs": [
    {
     "name": "stdout",
     "output_type": "stream",
     "text": [
      "94680.0\n"
     ]
    }
   ],
   "source": [
    "###BEGIN SOLUTION\n",
    "t7 = df_fortune[df_fortune['company'] == \"Apple\"][\"profit\"].iloc[0]\n",
    "print(t7)\n",
    "###END SOLUTION\n"
   ]
  },
  {
   "cell_type": "markdown",
   "id": "d091e541-6552-4e6d-a0a7-3500a3971549",
   "metadata": {
    "nbgrader": {
     "grade": false,
     "grade_id": "cell-12ab2ac4f2e5993e",
     "locked": true,
     "schema_version": 3,
     "solution": false,
     "task": false
    },
    "tags": []
   },
   "source": [
    "# Task 08: sorting\n",
    "Create a dataframe containing all companies in Iowa, sort them in the ascending order of city<br>\n",
    "hint: use the sort_values() function for a dataframe, chapter 5, section sorting and ranking: dataframe.sort_values([column_name_1, column_name_2, ...]) <br>\n",
    "expectation: a dataframe, shape = (5, 18)\n"
   ]
  },
  {
   "cell_type": "code",
   "execution_count": 68,
   "id": "dc84ae47-963e-450d-9a66-97f59318a91e",
   "metadata": {
    "nbgrader": {
     "grade": true,
     "grade_id": "cell-d2d1b0ecf870ed4f",
     "locked": false,
     "points": 10,
     "schema_version": 3,
     "solution": true,
     "task": false
    },
    "tags": []
   },
   "outputs": [
    {
     "name": "stdout",
     "output_type": "stream",
     "text": [
      "(5, 18)\n"
     ]
    }
   ],
   "source": [
    "###BEGIN SOLUTION\n",
    "t8 = df_fortune[df_fortune['state'] == 'IA'].sort_values(['city'])\n",
    "print(t8.shape)\n",
    "###END SOLUTION"
   ]
  },
  {
   "cell_type": "markdown",
   "id": "6369de72-b624-454f-9ad7-13d9a75cf816",
   "metadata": {
    "nbgrader": {
     "grade": false,
     "grade_id": "cell-e6f0164a6e69a293",
     "locked": true,
     "schema_version": 3,
     "solution": false,
     "task": false
    },
    "tags": []
   },
   "source": [
    "# Task 09: more on sorting\n",
    "Top 5 companies with the highest revenue in the sector Health Care sector,\n",
    "expectation: a dataframe, shape = (5,18)"
   ]
  },
  {
   "cell_type": "code",
   "execution_count": 69,
   "id": "369edeb1-952d-4850-b974-42435d860c02",
   "metadata": {
    "nbgrader": {
     "grade": true,
     "grade_id": "cell-f1d20f84807c8c5e",
     "locked": false,
     "points": 10,
     "schema_version": 3,
     "solution": true,
     "task": false
    },
    "tags": []
   },
   "outputs": [
    {
     "name": "stdout",
     "output_type": "stream",
     "text": [
      "(5, 18)\n"
     ]
    }
   ],
   "source": [
    "###BEGIN SOLUTION\n",
    "t9 = df_fortune[df_fortune['sector'] == 'Health Care'].sort_values(['revenue'], ascending = False)[:5]\n",
    "print(t9.shape)\n",
    "###END SOLUTION"
   ]
  },
  {
   "cell_type": "markdown",
   "id": "47f1c2ba-c920-4761-81a0-445f5b62a0df",
   "metadata": {
    "nbgrader": {
     "grade": false,
     "grade_id": "cell-430741a4918c874c",
     "locked": true,
     "schema_version": 3,
     "solution": false,
     "task": false
    },
    "tags": []
   },
   "source": [
    "# Task 10: Adding a new column\n",
    "Create a dataset of all companies with increasing rank (e.g., rank_change > 0), then add a new column to that dataset. The new column is the ratio of profit to num. of employees, name the new column \"profit_per_employee\".\n",
    "\n",
    "expectation: a dataframe, shape = (172, 19)\n"
   ]
  },
  {
   "cell_type": "code",
   "execution_count": 70,
   "id": "3616a19c-44cb-4210-9201-d648b295587f",
   "metadata": {
    "nbgrader": {
     "grade": true,
     "grade_id": "cell-039bdb7797d4af96",
     "locked": false,
     "points": 10,
     "schema_version": 3,
     "solution": true,
     "task": false
    },
    "tags": []
   },
   "outputs": [
    {
     "name": "stdout",
     "output_type": "stream",
     "text": [
      "(172, 19)\n"
     ]
    },
    {
     "name": "stderr",
     "output_type": "stream",
     "text": [
      "/tmp/ipykernel_516163/2067710656.py:2: SettingWithCopyWarning: \n",
      "A value is trying to be set on a copy of a slice from a DataFrame.\n",
      "Try using .loc[row_indexer,col_indexer] = value instead\n",
      "\n",
      "See the caveats in the documentation: https://pandas.pydata.org/pandas-docs/stable/user_guide/indexing.html#returning-a-view-versus-a-copy\n",
      "  t10['profit_per_employee'] = t10['profit'] / t10['num. of employees']\n"
     ]
    },
    {
     "data": {
      "text/html": [
       "<div>\n",
       "<style scoped>\n",
       "    .dataframe tbody tr th:only-of-type {\n",
       "        vertical-align: middle;\n",
       "    }\n",
       "\n",
       "    .dataframe tbody tr th {\n",
       "        vertical-align: top;\n",
       "    }\n",
       "\n",
       "    .dataframe thead th {\n",
       "        text-align: right;\n",
       "    }\n",
       "</style>\n",
       "<table border=\"1\" class=\"dataframe\">\n",
       "  <thead>\n",
       "    <tr style=\"text-align: right;\">\n",
       "      <th></th>\n",
       "      <th>company</th>\n",
       "      <th>rank</th>\n",
       "      <th>rank_change</th>\n",
       "      <th>revenue</th>\n",
       "      <th>profit</th>\n",
       "      <th>num. of employees</th>\n",
       "      <th>sector</th>\n",
       "      <th>city</th>\n",
       "      <th>state</th>\n",
       "      <th>newcomer</th>\n",
       "      <th>ceo_founder</th>\n",
       "      <th>ceo_woman</th>\n",
       "      <th>profitable</th>\n",
       "      <th>prev_rank</th>\n",
       "      <th>CEO</th>\n",
       "      <th>Website</th>\n",
       "      <th>Ticker</th>\n",
       "      <th>Market Cap</th>\n",
       "      <th>profit_per_employee</th>\n",
       "    </tr>\n",
       "  </thead>\n",
       "  <tbody>\n",
       "    <tr>\n",
       "      <th>5</th>\n",
       "      <td>Exxon Mobil</td>\n",
       "      <td>6</td>\n",
       "      <td>4.0</td>\n",
       "      <td>285640.0</td>\n",
       "      <td>23040.0</td>\n",
       "      <td>63000.0</td>\n",
       "      <td>Energy</td>\n",
       "      <td>Irving</td>\n",
       "      <td>TX</td>\n",
       "      <td>no</td>\n",
       "      <td>no</td>\n",
       "      <td>no</td>\n",
       "      <td>yes</td>\n",
       "      <td>10.0</td>\n",
       "      <td>Darren W. Woods</td>\n",
       "      <td>www.exxonmobil.com</td>\n",
       "      <td>XOM</td>\n",
       "      <td>371841</td>\n",
       "      <td>0.365714</td>\n",
       "    </tr>\n",
       "    <tr>\n",
       "      <th>7</th>\n",
       "      <td>Alphabet</td>\n",
       "      <td>8</td>\n",
       "      <td>1.0</td>\n",
       "      <td>257637.0</td>\n",
       "      <td>76033.0</td>\n",
       "      <td>156500.0</td>\n",
       "      <td>Technology</td>\n",
       "      <td>Mountain View</td>\n",
       "      <td>CA</td>\n",
       "      <td>no</td>\n",
       "      <td>no</td>\n",
       "      <td>no</td>\n",
       "      <td>yes</td>\n",
       "      <td>9.0</td>\n",
       "      <td>Sundar Pichai</td>\n",
       "      <td>https://www.abc.xyz</td>\n",
       "      <td>GOOGL</td>\n",
       "      <td>1309359</td>\n",
       "      <td>0.485834</td>\n",
       "    </tr>\n",
       "    <tr>\n",
       "      <th>10</th>\n",
       "      <td>Costco Wholesale</td>\n",
       "      <td>11</td>\n",
       "      <td>1.0</td>\n",
       "      <td>195929.0</td>\n",
       "      <td>5007.0</td>\n",
       "      <td>288000.0</td>\n",
       "      <td>Retailing</td>\n",
       "      <td>Issaquah</td>\n",
       "      <td>WA</td>\n",
       "      <td>no</td>\n",
       "      <td>no</td>\n",
       "      <td>no</td>\n",
       "      <td>yes</td>\n",
       "      <td>12.0</td>\n",
       "      <td>W. Craig Jelinek</td>\n",
       "      <td>www.costco.com</td>\n",
       "      <td>COST</td>\n",
       "      <td>230443</td>\n",
       "      <td>0.017385</td>\n",
       "    </tr>\n",
       "    <tr>\n",
       "      <th>11</th>\n",
       "      <td>Cigna</td>\n",
       "      <td>12</td>\n",
       "      <td>1.0</td>\n",
       "      <td>174078.0</td>\n",
       "      <td>5365.0</td>\n",
       "      <td>72963.0</td>\n",
       "      <td>Health Care</td>\n",
       "      <td>Bloomfield</td>\n",
       "      <td>CT</td>\n",
       "      <td>no</td>\n",
       "      <td>no</td>\n",
       "      <td>no</td>\n",
       "      <td>yes</td>\n",
       "      <td>13.0</td>\n",
       "      <td>David Cordani</td>\n",
       "      <td>https://www.cigna.com</td>\n",
       "      <td>CI</td>\n",
       "      <td>88459</td>\n",
       "      <td>0.073530</td>\n",
       "    </tr>\n",
       "    <tr>\n",
       "      <th>13</th>\n",
       "      <td>Microsoft</td>\n",
       "      <td>14</td>\n",
       "      <td>1.0</td>\n",
       "      <td>168088.0</td>\n",
       "      <td>61271.0</td>\n",
       "      <td>181000.0</td>\n",
       "      <td>Technology</td>\n",
       "      <td>Redmond</td>\n",
       "      <td>WA</td>\n",
       "      <td>no</td>\n",
       "      <td>no</td>\n",
       "      <td>no</td>\n",
       "      <td>yes</td>\n",
       "      <td>15.0</td>\n",
       "      <td>Satya Nadella</td>\n",
       "      <td>www.microsoft.com</td>\n",
       "      <td>MSFT</td>\n",
       "      <td>1941033</td>\n",
       "      <td>0.338514</td>\n",
       "    </tr>\n",
       "    <tr>\n",
       "      <th>...</th>\n",
       "      <td>...</td>\n",
       "      <td>...</td>\n",
       "      <td>...</td>\n",
       "      <td>...</td>\n",
       "      <td>...</td>\n",
       "      <td>...</td>\n",
       "      <td>...</td>\n",
       "      <td>...</td>\n",
       "      <td>...</td>\n",
       "      <td>...</td>\n",
       "      <td>...</td>\n",
       "      <td>...</td>\n",
       "      <td>...</td>\n",
       "      <td>...</td>\n",
       "      <td>...</td>\n",
       "      <td>...</td>\n",
       "      <td>...</td>\n",
       "      <td>...</td>\n",
       "      <td>...</td>\n",
       "    </tr>\n",
       "    <tr>\n",
       "      <th>451</th>\n",
       "      <td>Arconic</td>\n",
       "      <td>452</td>\n",
       "      <td>24.0</td>\n",
       "      <td>7504.0</td>\n",
       "      <td>-397.0</td>\n",
       "      <td>13900.0</td>\n",
       "      <td>Materials</td>\n",
       "      <td>Pittsburgh</td>\n",
       "      <td>PA</td>\n",
       "      <td>no</td>\n",
       "      <td>no</td>\n",
       "      <td>no</td>\n",
       "      <td>no</td>\n",
       "      <td>476.0</td>\n",
       "      <td>Timothy D. Myers</td>\n",
       "      <td>https://www.arconic.com</td>\n",
       "      <td>ARNC</td>\n",
       "      <td>2690.7</td>\n",
       "      <td>-0.028561</td>\n",
       "    </tr>\n",
       "    <tr>\n",
       "      <th>459</th>\n",
       "      <td>KBR</td>\n",
       "      <td>460</td>\n",
       "      <td>10.0</td>\n",
       "      <td>7339.0</td>\n",
       "      <td>18.0</td>\n",
       "      <td>28000.0</td>\n",
       "      <td>Engineering &amp; Construction</td>\n",
       "      <td>Houston</td>\n",
       "      <td>TX</td>\n",
       "      <td>no</td>\n",
       "      <td>no</td>\n",
       "      <td>no</td>\n",
       "      <td>yes</td>\n",
       "      <td>470.0</td>\n",
       "      <td>Stuart J.B. Bradie</td>\n",
       "      <td>https://www.kbr.com</td>\n",
       "      <td>KBR</td>\n",
       "      <td>7634.9</td>\n",
       "      <td>0.000643</td>\n",
       "    </tr>\n",
       "    <tr>\n",
       "      <th>462</th>\n",
       "      <td>Analog Devices</td>\n",
       "      <td>463</td>\n",
       "      <td>18.0</td>\n",
       "      <td>7318.3</td>\n",
       "      <td>1390.4</td>\n",
       "      <td>24700.0</td>\n",
       "      <td>Technology</td>\n",
       "      <td>Wilmington</td>\n",
       "      <td>MA</td>\n",
       "      <td>no</td>\n",
       "      <td>no</td>\n",
       "      <td>no</td>\n",
       "      <td>yes</td>\n",
       "      <td>481.0</td>\n",
       "      <td>Vincent T. Roche</td>\n",
       "      <td>https://www.analog.com</td>\n",
       "      <td>ADI</td>\n",
       "      <td>86441.2</td>\n",
       "      <td>0.056291</td>\n",
       "    </tr>\n",
       "    <tr>\n",
       "      <th>474</th>\n",
       "      <td>Camping World Holdings</td>\n",
       "      <td>475</td>\n",
       "      <td>21.0</td>\n",
       "      <td>6913.8</td>\n",
       "      <td>278.5</td>\n",
       "      <td>12834.0</td>\n",
       "      <td>Retailing</td>\n",
       "      <td>Lincolnshire</td>\n",
       "      <td>IL</td>\n",
       "      <td>no</td>\n",
       "      <td>no</td>\n",
       "      <td>no</td>\n",
       "      <td>yes</td>\n",
       "      <td>496.0</td>\n",
       "      <td>Marcus A. Lemonis</td>\n",
       "      <td>https://www.campingworld.com</td>\n",
       "      <td>CWH</td>\n",
       "      <td>2664.6</td>\n",
       "      <td>0.021700</td>\n",
       "    </tr>\n",
       "    <tr>\n",
       "      <th>483</th>\n",
       "      <td>Commercial Metals</td>\n",
       "      <td>484</td>\n",
       "      <td>8.0</td>\n",
       "      <td>6729.8</td>\n",
       "      <td>412.9</td>\n",
       "      <td>11089.0</td>\n",
       "      <td>Materials</td>\n",
       "      <td>Irving</td>\n",
       "      <td>TX</td>\n",
       "      <td>no</td>\n",
       "      <td>no</td>\n",
       "      <td>yes</td>\n",
       "      <td>yes</td>\n",
       "      <td>492.0</td>\n",
       "      <td>Barbara R. Smith</td>\n",
       "      <td>https://www.cmc.com</td>\n",
       "      <td>CMC</td>\n",
       "      <td>5056.7</td>\n",
       "      <td>0.037235</td>\n",
       "    </tr>\n",
       "  </tbody>\n",
       "</table>\n",
       "<p>172 rows × 19 columns</p>\n",
       "</div>"
      ],
      "text/plain": [
       "                    company  rank  rank_change   revenue   profit  \\\n",
       "5               Exxon Mobil     6          4.0  285640.0  23040.0   \n",
       "7                  Alphabet     8          1.0  257637.0  76033.0   \n",
       "10         Costco Wholesale    11          1.0  195929.0   5007.0   \n",
       "11                    Cigna    12          1.0  174078.0   5365.0   \n",
       "13                Microsoft    14          1.0  168088.0  61271.0   \n",
       "..                      ...   ...          ...       ...      ...   \n",
       "451                 Arconic   452         24.0    7504.0   -397.0   \n",
       "459                     KBR   460         10.0    7339.0     18.0   \n",
       "462          Analog Devices   463         18.0    7318.3   1390.4   \n",
       "474  Camping World Holdings   475         21.0    6913.8    278.5   \n",
       "483       Commercial Metals   484          8.0    6729.8    412.9   \n",
       "\n",
       "     num. of employees                      sector           city state  \\\n",
       "5              63000.0                      Energy         Irving    TX   \n",
       "7             156500.0                  Technology  Mountain View    CA   \n",
       "10            288000.0                   Retailing       Issaquah    WA   \n",
       "11             72963.0                 Health Care     Bloomfield    CT   \n",
       "13            181000.0                  Technology        Redmond    WA   \n",
       "..                 ...                         ...            ...   ...   \n",
       "451            13900.0                   Materials     Pittsburgh    PA   \n",
       "459            28000.0  Engineering & Construction        Houston    TX   \n",
       "462            24700.0                  Technology     Wilmington    MA   \n",
       "474            12834.0                   Retailing   Lincolnshire    IL   \n",
       "483            11089.0                   Materials         Irving    TX   \n",
       "\n",
       "    newcomer ceo_founder ceo_woman profitable prev_rank                 CEO  \\\n",
       "5         no          no        no        yes      10.0     Darren W. Woods   \n",
       "7         no          no        no        yes       9.0       Sundar Pichai   \n",
       "10        no          no        no        yes      12.0    W. Craig Jelinek   \n",
       "11        no          no        no        yes      13.0       David Cordani   \n",
       "13        no          no        no        yes      15.0       Satya Nadella   \n",
       "..       ...         ...       ...        ...       ...                 ...   \n",
       "451       no          no        no         no     476.0    Timothy D. Myers   \n",
       "459       no          no        no        yes     470.0  Stuart J.B. Bradie   \n",
       "462       no          no        no        yes     481.0    Vincent T. Roche   \n",
       "474       no          no        no        yes     496.0   Marcus A. Lemonis   \n",
       "483       no          no       yes        yes     492.0    Barbara R. Smith   \n",
       "\n",
       "                          Website Ticker Market Cap  profit_per_employee  \n",
       "5              www.exxonmobil.com    XOM     371841             0.365714  \n",
       "7             https://www.abc.xyz  GOOGL    1309359             0.485834  \n",
       "10                 www.costco.com   COST     230443             0.017385  \n",
       "11          https://www.cigna.com     CI      88459             0.073530  \n",
       "13              www.microsoft.com   MSFT    1941033             0.338514  \n",
       "..                            ...    ...        ...                  ...  \n",
       "451       https://www.arconic.com   ARNC     2690.7            -0.028561  \n",
       "459           https://www.kbr.com    KBR     7634.9             0.000643  \n",
       "462        https://www.analog.com    ADI    86441.2             0.056291  \n",
       "474  https://www.campingworld.com    CWH     2664.6             0.021700  \n",
       "483           https://www.cmc.com    CMC     5056.7             0.037235  \n",
       "\n",
       "[172 rows x 19 columns]"
      ]
     },
     "execution_count": 70,
     "metadata": {},
     "output_type": "execute_result"
    }
   ],
   "source": [
    "t10 = df_fortune[df_fortune['rank_change'] > 0]\n",
    "t10['profit_per_employee'] = t10['profit'] / t10['num. of employees']\n",
    "print(t10.shape)"
   ]
  },
  {
   "cell_type": "markdown",
   "id": "de297df1-be25-41ae-9e70-1cc365849bd7",
   "metadata": {
    "nbgrader": {
     "grade": false,
     "grade_id": "cell-e19224a51dccef6a",
     "locked": true,
     "schema_version": 3,
     "solution": false,
     "task": false
    },
    "tags": []
   },
   "source": [
    "# Task 11: computing values\n",
    "The raito of mean Market Cap of companies in IA to the mean Market Cap of all companies.\n",
    "Note: the values in the Market Cap column are objects (strings) and there are missing values there. You need (1) convert strings -> numbers and (2) skip NaN when computing the mean.\n",
    "\n",
    "ref: \n",
    "https://pandas.pydata.org/docs/reference/api/pandas.to_numeric.html <br>\n",
    "https://pandas.pydata.org/docs/reference/api/pandas.Series.mean.html\n",
    "\n",
    "expectation: 0.17502562662783044"
   ]
  },
  {
   "cell_type": "code",
   "execution_count": 73,
   "id": "f01fde0c-81e7-4028-94a5-af37fe68cb26",
   "metadata": {
    "nbgrader": {
     "grade": true,
     "grade_id": "cell-a442e9b2ad5be901",
     "locked": false,
     "points": 10,
     "schema_version": 3,
     "solution": true,
     "task": false
    },
    "tags": []
   },
   "outputs": [
    {
     "name": "stdout",
     "output_type": "stream",
     "text": [
      "0.17502562662783044\n"
     ]
    }
   ],
   "source": [
    "###BEGIN SOLUTION\n",
    "mean_IA = df_fortune[df_fortune['state'] == 'IA']['Market Cap']\n",
    "mean_IA = pd.to_numeric(mean_IA).mean(skipna = True)\n",
    "\n",
    "mean_all = df_fortune['Market Cap']\n",
    "mean_all = pd.to_numeric(mean_all, errors='coerce').mean(skipna = True)\n",
    "\n",
    "t11 = mean_IA/mean_all\n",
    "print(t11)\n",
    "#mean_all = df_fortune['Market Cap'].astype('float').mean(skipna = True)\n",
    "#t9 = mean_IA/mean_all\n",
    "#print(t9)\n",
    "###END SOLUTION"
   ]
  }
 ],
 "metadata": {
  "kernelspec": {
   "display_name": "DS320 (Python3.10)",
   "language": "python",
   "name": "ds320"
  },
  "language_info": {
   "codemirror_mode": {
    "name": "ipython",
    "version": 3
   },
   "file_extension": ".py",
   "mimetype": "text/x-python",
   "name": "python",
   "nbconvert_exporter": "python",
   "pygments_lexer": "ipython3",
   "version": "3.10.8"
  }
 },
 "nbformat": 4,
 "nbformat_minor": 5
}
