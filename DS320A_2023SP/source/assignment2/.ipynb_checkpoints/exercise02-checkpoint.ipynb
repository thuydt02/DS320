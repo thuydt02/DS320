{
 "cells": [
  {
   "cell_type": "markdown",
   "id": "11d0c766-4dec-4702-ac9f-077af64b4838",
   "metadata": {
    "nbgrader": {
     "grade": false,
     "grade_id": "cell-d4e9abc92e00b715",
     "locked": true,
     "schema_version": 3,
     "solution": false,
     "task": false
    },
    "tags": []
   },
   "source": [
    "<b>DS320 Spring 2023\n",
    "Excercise 01 posted on Friday 02/10/23 , due date is Thusday 02/16/23, at 8:00 PM </b>\n",
    "\n",
    "Problem:\n",
    "\n",
    "Write a program to extract data about countries from multiple files.\n",
    "\n",
    "Define function<i> get_info_by_country_name() </i>with a single parameter, <i>string country</i>, that returns the following information about the specified country in a tuple:\n",
    "\n",
    "country (as a string)<br>\n",
    "capital (as a string)<br>\n",
    "total km^2 (as an integer)<br>\n",
    "population (as an inteteger)<br>\n",
    "region (as a string)<br>\n",
    "\n",
    "\n",
    "Note that the number of countries and territories in each of the provided files (world_demo.csv, world_geo.csv, world_gov.csv, and world_regions.csv) is different, so your function should only return data that matches the requested country <br>\n",
    "All data files have headers and use comma (,) to separate values.\n",
    "Your program must work with files in the same directory.\n",
    "\n",
    "Hints: you may want to follow the following steps:\n",
    "\n",
    "#1 read each file into a dictinoary. Here you can modify the function read_file_to_dict() provided in the notebook 02_file_review on Katie => you have 4 dictionaries. <br>\n",
    "#2 when you are given a specific country, you just need to find the above information in the dictionaries in the previous step\n",
    "\n"
   ]
  },
  {
   "cell_type": "code",
   "execution_count": 24,
   "id": "32506f19-ba80-4476-a776-1b4e4fbd6840",
   "metadata": {
    "nbgrader": {
     "grade": false,
     "grade_id": "cell-9b1e8d8438df3bea",
     "locked": false,
     "schema_version": 3,
     "solution": true,
     "task": false
    },
    "tags": []
   },
   "outputs": [],
   "source": [
    "###BEGIN SOLUTION\n",
    "def read_file_to_dict(fname):\n",
    "    # read the data in the file indicated by fname (string),\n",
    "    # output: a dict of key:value, here key is the first column\n",
    "    # value is a tuple of the remainding columns  \n",
    "    \n",
    "    #1\n",
    "    fin = open(fname, 'r')\n",
    "    \n",
    "    #2\n",
    "    d = dict()\n",
    "    line = fin.readline()\n",
    "    \n",
    "    if line == \"\":\n",
    "        fin.close()\n",
    "        return d\n",
    "    \n",
    "    while True:\n",
    "        line = fin.readline()\n",
    "        if line == \"\":\n",
    "            break\n",
    "        line = line.strip(\"\\n\")\n",
    "        items = line.split(\",\")\n",
    "        \n",
    "        key = items[0]\n",
    "        value = tuple(items[1:])\n",
    "        d[key] = value\n",
    "        \n",
    "           #3\n",
    "    fin.close()\n",
    "    return d\n",
    "###END SOLUTION\n",
    "def get_info_by_country_name(country):\n",
    "###BEGIN SOLUTION\n",
    "    fdemo = \"./world_demo.csv\"\n",
    "    fgeo = \"./world_geo.csv\"\n",
    "    fgov = \"./world_gov.csv\"\n",
    "    fregion = \"./world_regions.csv\"\n",
    "    \n",
    "    ddemo = read_file_to_dict(fdemo)\n",
    "    dgeo = read_file_to_dict(fgeo)\n",
    "    dgov = read_file_to_dict(fgov)\n",
    "    dregion = read_file_to_dict(fregion)\n",
    "    \n",
    "    return (country, dgov.get(country, (\"\",\"\"))[-1], int(dgeo.get(country, (0, 0))[0]), int(ddemo.get(country, (0,0))[0]), dregion.get(country, (\"\",\"\"))[0])\n",
    "###END SOLUTION\n"
   ]
  },
  {
   "cell_type": "code",
   "execution_count": 25,
   "id": "087b9b7d-1e01-4bdc-a761-63211461597a",
   "metadata": {
    "nbgrader": {
     "grade": true,
     "grade_id": "cell-63db7d15d76f418f",
     "locked": true,
     "points": 0,
     "schema_version": 3,
     "solution": false,
     "task": false
    },
    "tags": []
   },
   "outputs": [],
   "source": [
    "### BEGIN HIDDEN TESTS\n",
    "c = \"Angola\"\n",
    "out = ('Angola', 'Luanda', 1246700, 31825295, 'Middle Africa')\n",
    "assert get_info_by_country_name(c) == out\n",
    "\n",
    "c = \"France\"\n",
    "out = ('France', 'Paris', 543940, 65129728, 'Western Europe')\n",
    "assert get_info_by_country_name(c) == out\n",
    "\n",
    "c = \"Antigua and Barbuda\"\n",
    "out = ('Antigua and Barbuda', \"St. John's\", 442, 97118, 'Caribbean')\n",
    "assert get_info_by_country_name(c) == out\n",
    "\n",
    "c = \"Timor-Leste\"\n",
    "out = ('Timor-Leste', 'Dili', 0, 1293119, 'South-eastern Asia')\n",
    "assert get_info_by_country_name(c) == out\n",
    "\n",
    "c = \"Democratic Republic of the Congo\"\n",
    "out = ('Democratic Republic of the Congo', 'Kinshasa', 0, 86790567, 'Middle Africa')\n",
    "assert get_info_by_country_name(c) == out\n",
    "\n",
    "### END HIDDEN TESTS"
   ]
  }
 ],
 "metadata": {
  "kernelspec": {
   "display_name": "DS320 (Python3.10)",
   "language": "python",
   "name": "ds320"
  },
  "language_info": {
   "codemirror_mode": {
    "name": "ipython",
    "version": 3
   },
   "file_extension": ".py",
   "mimetype": "text/x-python",
   "name": "python",
   "nbconvert_exporter": "python",
   "pygments_lexer": "ipython3",
   "version": "3.9.12"
  }
 },
 "nbformat": 4,
 "nbformat_minor": 5
}
