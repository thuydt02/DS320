{
 "cells": [
  {
   "cell_type": "markdown",
   "id": "53fc953a-0af7-4d50-aead-9d3abafa4eba",
   "metadata": {
    "nbgrader": {
     "grade": false,
     "grade_id": "cell-ccda3652dc20b158",
     "locked": true,
     "schema_version": 3,
     "solution": false,
     "task": false
    }
   },
   "source": [
    "# Project 1\n",
    "\n",
    "Working with numpy.\n",
    "\n",
    "Again, try to use vectorization techniques (array-oriented proramming) as much as you can. You will not get full credits if you do not use these techniques while it is supposed to use them.\n",
    "\n",
    "You will work with the housing.csv file. It is provided with this assignment."
   ]
  },
  {
   "cell_type": "markdown",
   "id": "54cd993a-1690-478d-94a3-dc1263988bce",
   "metadata": {
    "nbgrader": {
     "grade": false,
     "grade_id": "cell-7a6b20882f14e4f0",
     "locked": true,
     "schema_version": 3,
     "solution": false,
     "task": false
    },
    "tags": []
   },
   "source": [
    "# Task 1\n",
    "\n",
    "Reading the `housing.csv` file. Skip the header and any text columns. Store the remaining data as an array of floating-point numbers. Name your array with the name `housing`.\n"
   ]
  },
  {
   "cell_type": "code",
   "execution_count": 68,
   "id": "8415ff2e-f98b-4c14-99a3-aafca9e1a359",
   "metadata": {
    "nbgrader": {
     "grade": false,
     "grade_id": "cell-eef1d4698dfc1302",
     "locked": false,
     "schema_version": 3,
     "solution": true,
     "task": false
    },
    "tags": []
   },
   "outputs": [
    {
     "name": "stdout",
     "output_type": "stream",
     "text": [
      "(20640, 9)\n",
      "float64\n"
     ]
    }
   ],
   "source": [
    "###BEGIN SOLUTION\n",
    "import numpy as np\n",
    "fname = \"./housing.csv\"\n",
    "usecols = (0, 1, 2, 3, 4, 5, 6, 7, 8)\n",
    "housing = np.genfromtxt(fname, delimiter=',', skip_header=1, usecols=usecols, dtype=float)\n",
    "print(housing.shape)\n",
    "print(housing.dtype)\n",
    "\n",
    "###END SOLUTION"
   ]
  },
  {
   "cell_type": "code",
   "execution_count": 70,
   "id": "026b96a2-2620-46f7-9598-29b3edc64a9e",
   "metadata": {
    "nbgrader": {
     "grade": true,
     "grade_id": "cell-9b988c5cf16e9db0",
     "locked": true,
     "points": 10,
     "schema_version": 3,
     "solution": false,
     "task": false
    },
    "tags": []
   },
   "outputs": [
    {
     "name": "stdout",
     "output_type": "stream",
     "text": [
      "after Task1: points:  10\n"
     ]
    }
   ],
   "source": [
    "### BEGIN HIDDEN TESTS\n",
    "points = 0\n",
    "if np.all(np.array(housing.shape) == np.array([20640,9])):\n",
    "    points += 5\n",
    "if housing.dtype == \"float64\":\n",
    "    points += 5\n",
    "\n",
    "if points < 10:\n",
    "    print(\"Task 1: fail\")\n",
    "print(\"after Task1: points: \", points)\n",
    "\n",
    "assert np.all(np.array(housing.shape) == np.array([20640,9]))\n",
    "assert housing.dtype == \"float64\"\n",
    "\n",
    "###END HIDDEN TESTS"
   ]
  },
  {
   "cell_type": "markdown",
   "id": "696e6c90-92c6-4e33-b374-6e921603f0bd",
   "metadata": {
    "nbgrader": {
     "grade": false,
     "grade_id": "cell-ecd775a257f96e2e",
     "locked": true,
     "schema_version": 3,
     "solution": false,
     "task": false
    },
    "tags": []
   },
   "source": [
    "# Task 2\n",
    "\n",
    "Delete all rows that have missing value(s).<br>\n",
    "Hints: <br>\n",
    "+ Details for reading missing values can be found here \n",
    "https://numpy.org/doc/stable/user/basics.io.genfromtxt.html<br>\n",
    "+ The numpy.isnan() function is to test missing values <br>\n",
    "+ The numpy.delete() function is to delete rows/cols in an array"
   ]
  },
  {
   "cell_type": "code",
   "execution_count": 71,
   "id": "d80595d5-ae65-449c-a5f8-2703fb9423b7",
   "metadata": {
    "nbgrader": {
     "grade": false,
     "grade_id": "cell-939d76f14ebcae8b",
     "locked": false,
     "schema_version": 3,
     "solution": true,
     "task": false
    },
    "tags": []
   },
   "outputs": [
    {
     "name": "stdout",
     "output_type": "stream",
     "text": [
      "20433\n",
      "(20433, 9)\n"
     ]
    }
   ],
   "source": [
    "###BEGIN SOLUTION\n",
    "num_rows = housing.shape[0]\n",
    "rows_to_delete = [i for i in range (num_rows) if np.isnan(housing[i]).sum() > 0]\n",
    "print(housing.shape[0] - len(rows_to_delete))\n",
    "\n",
    "housing = np.delete(housing, rows_to_delete, 0)\n",
    "print(housing.shape)\n",
    "###END SOLUTION"
   ]
  },
  {
   "cell_type": "code",
   "execution_count": 72,
   "id": "5fd4bfbd-c9a2-48bf-8539-a49a13aadfb1",
   "metadata": {
    "nbgrader": {
     "grade": true,
     "grade_id": "cell-a41e3265521999f2",
     "locked": true,
     "points": 30,
     "schema_version": 3,
     "solution": false,
     "task": false
    },
    "tags": []
   },
   "outputs": [
    {
     "name": "stdout",
     "output_type": "stream",
     "text": [
      "(20433, 9)\n",
      "TRue\n",
      "after Task2 points:  40\n"
     ]
    }
   ],
   "source": [
    "### BEGIN HIDDEN TESTS\n",
    "if np.all(np.array(housing.shape) == np.array([20433,9])):\n",
    "    points += 30\n",
    "else:\n",
    "    print(\"Task 2: fail\")\n",
    "print(\"after Task2 points: \", points)\n",
    "\n",
    "assert np.all(np.array(housing.shape) == np.array([20433,9]))\n",
    "\n",
    "\n",
    "###END HIDDEN TESTS"
   ]
  },
  {
   "cell_type": "markdown",
   "id": "39e5b8df-0008-4318-ae45-f89b32565b8b",
   "metadata": {
    "nbgrader": {
     "grade": false,
     "grade_id": "cell-a2e386bfed2a2afa",
     "locked": true,
     "schema_version": 3,
     "solution": false,
     "task": false
    },
    "tags": []
   },
   "source": [
    "# Task 3\n",
    "Add a column with a ratio of total_bedroom/households.<br>\n",
    "Hints: you may need to use the function numpy.reshape() to reshape the size a an array."
   ]
  },
  {
   "cell_type": "code",
   "execution_count": 73,
   "id": "a18abdd3-b48e-4332-a264-04fb2569500b",
   "metadata": {},
   "outputs": [
    {
     "name": "stdout",
     "output_type": "stream",
     "text": [
      "(20433,)\n",
      "(20433, 10)\n"
     ]
    }
   ],
   "source": [
    "###BEGIN SOLUTION\n",
    "new_col = housing[:,4]/housing[:,6]\n",
    "print(new_col.shape)\n",
    "n = housing.shape[0]\n",
    "housing = np.concatenate((housing, new_col.reshape(n, 1)), axis = 1)\n",
    "print(housing.shape)\n",
    "###END SOLUTION\n"
   ]
  },
  {
   "cell_type": "code",
   "execution_count": 74,
   "id": "805b4ac2-8e9b-41bd-9c33-e1f9fead1ba1",
   "metadata": {},
   "outputs": [
    {
     "name": "stdout",
     "output_type": "stream",
     "text": [
      "[1.02381 0.97188 1.07345 1.07306 1.08108]\n",
      "after Task3 points:  70\n",
      "(20433, 10)\n",
      "1.0238095238095237\n"
     ]
    }
   ],
   "source": [
    "### BEGIN HIDDEN TESTS\n",
    "testcase = np.around(np.array([1.02380952, 0.97188049, 1.07344633, 1.07305936, 1.08108108]), 5)\n",
    "print(testcase)\n",
    "if np.all(np.array(housing.shape) == np.array([20433,10])):\n",
    "    points += 15\n",
    "if np.all(np.around(housing[0:5,-1],5) == testcase):\n",
    "    points += 15\n",
    "print(\"after Task3 points: \", points)\n",
    "\n",
    "assert housing.shape == tuple((20433,10))\n",
    "assert np.all(np.around(housing[0:5,-1],5) == testcase)\n",
    "\n",
    "###END HIDDEN TESTS"
   ]
  },
  {
   "cell_type": "markdown",
   "id": "6cb3e643-cb3e-45a3-946d-1b6a8be0482d",
   "metadata": {},
   "source": [
    "# Task 4\n",
    "Compute `min`, `max`, `mean`, `median`, and `std` of each column in the array (after task 3). Store the results in a new array, named `housing_stats` as follows:\n",
    "+ the first row of the `housing_stats` are <b>minimum</b> values of each column\n",
    "+ the second row of the `housing_stats` are <b>maximum</b> values of each column\n",
    "+ the first row of the `housing_stats` are <b>mean</b> values of each column\n",
    "+ the first row of the `housing_stats` are <b>median</b> values of each column\n",
    "+ the first row of the `housing_stats` are <b>standard deviation</b> values of each column <b>\n",
    "\n",
    "''\n"
   ]
  },
  {
   "cell_type": "code",
   "execution_count": 79,
   "id": "337ddef9-9bfe-46c0-af03-99592d8725cd",
   "metadata": {},
   "outputs": [
    {
     "name": "stdout",
     "output_type": "stream",
     "text": [
      "[-1.24350000e+02  3.25400000e+01  1.00000000e+00  2.00000000e+00\n",
      "  1.00000000e+00  3.00000000e+00  1.00000000e+00  4.99900000e-01\n",
      "  1.49990000e+04  3.33333333e-01]\n",
      "[-1.14310000e+02  4.19500000e+01  5.20000000e+01  3.93200000e+04\n",
      "  6.44500000e+03  3.56820000e+04  6.08200000e+03  1.50001000e+01\n",
      "  5.00001000e+05  3.40666667e+01]\n",
      "[-1.19570689e+02  3.56332213e+01  2.86330935e+01  2.63650423e+03\n",
      "  5.37870553e+02  1.42494695e+03  4.99433465e+02  3.87116160e+00\n",
      "  2.06864413e+05  1.09706239e+00]\n",
      "[-1.18490000e+02  3.42600000e+01  2.90000000e+01  2.12700000e+03\n",
      "  4.35000000e+02  1.16600000e+03  4.09000000e+02  3.53650000e+00\n",
      "  1.79700000e+05  1.04888889e+00]\n",
      "[2.00352886e+00 2.13629539e+00 1.25914971e+01 2.18521609e+03\n",
      " 4.21374759e+02 1.13318076e+03 3.82289871e+02 1.89924477e+00\n",
      " 1.15432842e+05 4.76092425e-01]\n"
     ]
    }
   ],
   "source": [
    "###BEGIN SOLUTION\n",
    "min_cols = housing.min(axis = 0)\n",
    "max_cols = housing.max(axis = 0)\n",
    "mean_cols = housing.mean(axis = 0)\n",
    "median_cols = np.median(housing, axis = 0)\n",
    "std_cols = housing.std(axis = 0)\n",
    "\n",
    "housing_stats = np.array([min_cols, max_cols, mean_cols, median_cols, std_cols])\n",
    "\n",
    "with open('./housing_stats.npy', 'wb') as f:\n",
    "    np.save(f, housing_stats)\n",
    "###END SOLUTION\n"
   ]
  },
  {
   "cell_type": "code",
   "execution_count": null,
   "id": "bc00448d-9216-4712-8276-3b4c5516c5d4",
   "metadata": {},
   "outputs": [],
   "source": []
  }
 ],
 "metadata": {
  "kernelspec": {
   "display_name": "DS320 (Python3.10)",
   "language": "python",
   "name": "ds320"
  },
  "language_info": {
   "codemirror_mode": {
    "name": "ipython",
    "version": 3
   },
   "file_extension": ".py",
   "mimetype": "text/x-python",
   "name": "python",
   "nbconvert_exporter": "python",
   "pygments_lexer": "ipython3",
   "version": "3.9.12"
  }
 },
 "nbformat": 4,
 "nbformat_minor": 5
}
