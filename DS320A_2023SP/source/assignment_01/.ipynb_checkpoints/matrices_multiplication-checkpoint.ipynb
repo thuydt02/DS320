{
 "cells": [
  {
   "cell_type": "markdown",
   "id": "abb93c37-58cb-45a2-90eb-96bae345100a",
   "metadata": {
    "nbgrader": {
     "grade": false,
     "grade_id": "cell-fcae5366e695ec83",
     "locked": true,
     "schema_version": 3,
     "solution": false,
     "task": false
    },
    "tags": []
   },
   "source": [
    "<b>DS320 Spring 2023\n",
    "Project 0 posted on Saturday 02/04/23 , due date is Friday 02/10/23, at 11:59 PM </b>\n",
    "\n",
    "This assignment is a warm-up exercise. You will work with files and lists.\n",
    "\n",
    "Problem:\n",
    "\n",
    "Write a function, <i><b>mat_mul()</b></i>, that takes 2 file path strings as input parameters. The function reads two matrices in the files indicated by the two file path strings, and then multiples those two matrices to get the product matrix. The output of the function is the product matrix organized in a list of lists.\n",
    "\n",
    "Each of input files has the following format:\n",
    "\n",
    "1. It is a text file\n",
    "2. Each line is a row in the matrix, including numbers separeated from others by a white space\n",
    "\n",
    "Note that the sizes of the two matrices are valid to compute the product. You do not need to verify that in your code. \n",
    "\n",
    "For example, here are 2 input files and the output\n",
    "\n",
    "file 1 is a matrix 3 x 3\n",
    "\n",
    "1 2 3<br>\n",
    "4 5 6<br>\n",
    "7 8 9\n",
    "\n",
    "file 2 is a matrix 3 x 2\n",
    "\n",
    "1 2<br>\n",
    "4 5<br>\n",
    "7 8\n",
    "\n",
    "output\n",
    "\n",
    "[[30.0, 36.0], [66.0, 81.0], [102.0, 126.0]]"
   ]
  },
  {
   "cell_type": "code",
   "execution_count": 21,
   "id": "cb13bcc6-66c1-4a7b-b9e2-2818b76b20ca",
   "metadata": {
    "nbgrader": {
     "grade": false,
     "grade_id": "cell-115eac2fe1e7f524",
     "locked": false,
     "schema_version": 3,
     "solution": true,
     "task": false
    },
    "tags": []
   },
   "outputs": [],
   "source": [
    "def read_file_to_list(fname):\n",
    "    # read the data in the file indicated by fname (string),\n",
    "    # output: a list of lists, here each sublist stores numbers \n",
    "    # in a line of the file  \n",
    "    \n",
    "    #1\n",
    "    fin = open(fname, 'r')\n",
    "    \n",
    "    #2\n",
    "    l = []\n",
    "    while True:\n",
    "        line = fin.readline()\n",
    "        if line == \"\":\n",
    "            break\n",
    "        line = line.strip(\"\\n\")\n",
    "        numbers = [float(e) for e in line.split(\" \")]\n",
    "        l.append(numbers)\n",
    "    #3\n",
    "    fin.close()\n",
    "    return l\n",
    "\n",
    "def mat_mul_by_list(A, B):\n",
    "    \n",
    "    n, p, m = len(A), len(A[0]), len(B[0])\n",
    "    C = []\n",
    "    \n",
    "    for i in range(n):\n",
    "        row = []\n",
    "        for j in range(m):\n",
    "            c = 0\n",
    "            for k in range(p):\n",
    "                c += A[i][k] * B[k][j]\n",
    "            row.append(c)\n",
    "        C.append(row)\n",
    "    return C            \n",
    "\n",
    "\n",
    "def mat_mul(f1, f2):\n",
    "### BEGIN SOLUTION\n",
    "    A = read_file_to_list(f1)\n",
    "    B = read_file_to_list(f2)\n",
    "    C = mat_mul_by_list(A,B)\n",
    "    return C\n",
    "    #multipling A and B, resulted in C\n",
    "### END SOLUTION"
   ]
  },
  {
   "cell_type": "code",
   "execution_count": 22,
   "id": "e6b3e12f-b4aa-473f-8240-9f2abc4b4d3c",
   "metadata": {
    "nbgrader": {
     "grade": true,
     "grade_id": "cell-4ed8887b8f5f53f2",
     "locked": true,
     "points": 100,
     "schema_version": 3,
     "solution": false,
     "task": false
    },
    "tags": []
   },
   "outputs": [],
   "source": [
    "### BEGIN HIDDEN TESTS\n",
    "f1,f2 = \"./mat1.txt\", \"./mat2.txt\"\n",
    "l = [[30.0, 36.0], [66.0, 81.0], [102.0, 126.0]]\n",
    "\n",
    "assert mat_mul(f1, f2) == l\n",
    "\n",
    "f1,f2 = \"./mat3.txt\", \"./mat4.txt\"\n",
    "l = [[30.0]]\n",
    "\n",
    "assert mat_mul(f1, f2) == l\n",
    "\n",
    "f1,f2 = \"./mat5.txt\", \"./mat6.txt\"\n",
    "l = [[4.0, 8.0], [5.0, 10.0], [6.0, 12.0]]\n",
    "\n",
    "assert mat_mul(f1, f2) == l\n",
    "\n",
    "f1,f2 = \"./mat7.txt\", \"./mat8.txt\"\n",
    "l = [[200.0]]\n",
    "\n",
    "assert mat_mul(f1, f2) == l\n",
    "### END HIDDEN TESTS"
   ]
  },
  {
   "cell_type": "code",
   "execution_count": null,
   "id": "aac8f31f-913e-4f9a-8fd9-cb9e9f811a7e",
   "metadata": {},
   "outputs": [],
   "source": []
  }
 ],
 "metadata": {
  "kernelspec": {
   "display_name": "DS320 (Python3.10)",
   "language": "python",
   "name": "ds320"
  },
  "language_info": {
   "codemirror_mode": {
    "name": "ipython",
    "version": 3
   },
   "file_extension": ".py",
   "mimetype": "text/x-python",
   "name": "python",
   "nbconvert_exporter": "python",
   "pygments_lexer": "ipython3",
   "version": "3.9.12"
  }
 },
 "nbformat": 4,
 "nbformat_minor": 5
}
