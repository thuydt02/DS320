{
 "cells": [
  {
   "cell_type": "markdown",
   "id": "42c4b097-05a8-404e-8026-40717f61f18c",
   "metadata": {
    "nbgrader": {
     "grade": false,
     "grade_id": "cell-8d69f67cf98f060e",
     "locked": true,
     "schema_version": 3,
     "solution": false,
     "task": false
    },
    "tags": []
   },
   "source": [
    "# DS320 Spring 2023: project 02\n",
    "<b> posted on Friday 03/04/23, Due on Thursday 03/09/23 at 8:00 AM </b><br>\n",
    "\n",
    "The focus of this assignment is <b>concatenation</b> and <b>computation</b><br>\n",
    "\n",
    "There are 11 tasks, each is worth 10 points. You will get 100/100 for the maximum score of this project.\n",
    "\n",
    "The last task is bonus. If you get 1xy points, you can reserve xy points for any other projects.\n",
    "\n",
    "Note: I will mannually grade your code, so no test cases will be provided, but I can give you the expectation of the outcomes for each task."
   ]
  },
  {
   "cell_type": "code",
   "execution_count": 2,
   "id": "5cadc7a0-ce0e-4081-ad6a-773c8baad98b",
   "metadata": {
    "nbgrader": {
     "grade": true,
     "grade_id": "cell-27b6077bf8058ab1",
     "locked": false,
     "points": 0,
     "schema_version": 3,
     "solution": true,
     "task": false
    },
    "tags": []
   },
   "outputs": [],
   "source": [
    "import pandas as pd"
   ]
  },
  {
   "cell_type": "markdown",
   "id": "9b03dfa2-f04b-4558-8270-4b4450578125",
   "metadata": {
    "nbgrader": {
     "grade": false,
     "grade_id": "cell-4288ddb9db580d78",
     "locked": true,
     "schema_version": 3,
     "solution": false,
     "task": false
    },
    "tags": []
   },
   "source": [
    "# Task 01: reading the \"world\" data.\n",
    "There are 05 csv files included in this assignment. <b>Read them into dataframes</b> and <b>delete all rows with missing values</b><br>\n",
    "Name them as follows <br>\n",
    "<b>df_codes</b> (from the world_codes.csv file),<br>\n",
    "<b>df_demo</b> (from the world_demo.csv file), <br>\n",
    "<b>df_geo</b> (from the world_geo.csv file),<br>\n",
    "<b>df_gov</b> (from the world_gov.csv file),<br>\n",
    "<b>df_regions</b> (from the world_regions.csv file).<br>\n",
    "Expectations: 5 dataframes with shapes:\n",
    "(244, 7)\n",
    "(233, 2)\n",
    "(248, 4)\n",
    "(195, 4)\n",
    "(246, 3)"
   ]
  },
  {
   "cell_type": "code",
   "execution_count": 3,
   "id": "7a6d4e00-da34-43a6-bc16-17d8ff93800b",
   "metadata": {
    "nbgrader": {
     "grade": true,
     "grade_id": "cell-d9e48f1845e7bf6b",
     "locked": false,
     "points": 10,
     "schema_version": 3,
     "solution": true,
     "task": false
    },
    "tags": []
   },
   "outputs": [
    {
     "name": "stdout",
     "output_type": "stream",
     "text": [
      "(244, 7)\n",
      "(233, 2)\n",
      "(248, 4)\n",
      "(195, 4)\n",
      "(246, 3)\n"
     ]
    }
   ],
   "source": [
    "###BEGIN SOLUTION\n",
    "df_codes = pd.read_csv(\"./world_codes.csv\")\n",
    "df_demo = pd.read_csv(\"./world_demo.csv\")\n",
    "df_geo = pd.read_csv(\"./world_geo.csv\")\n",
    "df_gov = pd.read_csv(\"./world_gov.csv\")\n",
    "df_regions = pd.read_csv(\"./world_regions.csv\")\n",
    "\n",
    "#df_codes = df_codes[df_codes.isna().any(axis='columns')]\n",
    "\n",
    "df_codes.dropna(inplace = True)\n",
    "df_demo.dropna(inplace = True)\n",
    "df_geo.dropna(inplace = True)\n",
    "df_gov.dropna(inplace = True)\n",
    "df_regions.dropna(inplace = True)\n",
    "\n",
    "print(df_codes.shape)\n",
    "print(df_demo.shape)\n",
    "print(df_geo.shape)\n",
    "print(df_gov.shape)\n",
    "print(df_regions.shape)\n",
    "\n",
    "###END SOLUTION"
   ]
  },
  {
   "cell_type": "markdown",
   "id": "848561f3-ee3d-4f1a-a425-30a4ef7819b2",
   "metadata": {
    "nbgrader": {
     "grade": false,
     "grade_id": "cell-4514a62e5d8b2084",
     "locked": true,
     "schema_version": 3,
     "solution": false,
     "task": false
    },
    "tags": []
   },
   "source": [
    "# Task 02: Looking at data types first\n",
    "<b>Show data types of all columns</b> in 5 dataframes<br>\n",
    "Hint: use DataFrame.dtypes.<br>\n",
    "Expectation: variety of data types are printed. <br>\n",
    "You will see some columns have numerical values, but in different types such as int64, object (string). You will need to convert numerical values into integers or float numbers for comparison and calculation.\n",
    "You also see all five dataframes have one column in common: Country"
   ]
  },
  {
   "cell_type": "code",
   "execution_count": 4,
   "id": "22cf19df-74ad-43e4-b22d-5eaa7a4d6447",
   "metadata": {
    "nbgrader": {
     "grade": true,
     "grade_id": "cell-ee7cd6382b0a7024",
     "locked": false,
     "points": 10,
     "schema_version": 3,
     "solution": true,
     "task": false
    },
    "tags": []
   },
   "outputs": [
    {
     "name": "stdout",
     "output_type": "stream",
     "text": [
      "Country                object\n",
      "Official state name    object\n",
      "Sovereignty            object\n",
      "Alpha-2 code           object\n",
      "Alpha-3 code           object\n",
      "Numeric code            int64\n",
      "Internet ccTLD         object\n",
      "dtype: object\n",
      "Country       object\n",
      "Population     int64\n",
      "dtype: object\n",
      "Country        object\n",
      "Total (km2)    object\n",
      "Land (km2)     object\n",
      "Water (km2)    object\n",
      "dtype: object\n",
      "Country                object\n",
      "Constitutional form    object\n",
      "Head of state          object\n",
      "Capital                object\n",
      "dtype: object\n",
      "Country      object\n",
      "Region       object\n",
      "Continent    object\n",
      "dtype: object\n"
     ]
    }
   ],
   "source": [
    "###BEGIN SOLUTION\n",
    "print(df_codes.dtypes)\n",
    "print(df_demo.dtypes)\n",
    "print(df_geo.dtypes)\n",
    "print(df_gov.dtypes)\n",
    "print(df_regions.dtypes)\n",
    "###END SOLUTION"
   ]
  },
  {
   "cell_type": "markdown",
   "id": "50edf8b6-fb89-472c-847e-d93aa1154c19",
   "metadata": {
    "nbgrader": {
     "grade": false,
     "grade_id": "cell-10d1c91b970df753",
     "locked": true,
     "schema_version": 3,
     "solution": false,
     "task": false
    },
    "tags": []
   },
   "source": [
    "# Task 03: Delete row(s)\n",
    "df_geo: delete all rows if they has at least one \"-\" in the Water (km2) column<br>\n",
    "Expectation: one row is deleted\n"
   ]
  },
  {
   "cell_type": "code",
   "execution_count": 5,
   "id": "f99bd715-b6de-4955-ba23-2455c8ed27a7",
   "metadata": {
    "nbgrader": {
     "grade": true,
     "grade_id": "cell-b429b1b4bee5ff32",
     "locked": false,
     "points": 10,
     "schema_version": 3,
     "solution": true,
     "task": false
    },
    "tags": []
   },
   "outputs": [
    {
     "name": "stdout",
     "output_type": "stream",
     "text": [
      "(248, 4)\n",
      "(247, 4)\n"
     ]
    }
   ],
   "source": [
    "###BEGIN SOLUTION\n",
    "print(df_geo.shape)\n",
    "ind = df_geo['Water (km2)'].apply(lambda x: True if x.find('-') != -1 else False)\n",
    "ind = df_geo[ind].index\n",
    "df_geo.drop(index = ind, inplace = True)\n",
    "print(df_geo.shape)\n",
    "###END SOLUTION"
   ]
  },
  {
   "cell_type": "markdown",
   "id": "66d15c22-f03e-42fb-9e00-5d5a6068e95f",
   "metadata": {
    "nbgrader": {
     "grade": false,
     "grade_id": "cell-dc46b108e6d24ec6",
     "locked": true,
     "schema_version": 3,
     "solution": false,
     "task": false
    },
    "tags": []
   },
   "source": [
    "# Task 04: Convert data types\n",
    "Convert the data type of column \"Total (km2)\" to float<br>\n",
    "Convert the data type of column \"Land (km2)\" to float<br>\n",
    "Convert the data type of column \"Water (km2)\" to float<br>\n",
    "Hints: <br>\n",
    "since they are strings of numbers with thousand separator (by ,), you need to replace \",\" with an empty string before convert them into float<br>\n",
    "use apply(), lambda() functions, and string.replace()<br>\n",
    "see good examples here https://sparkbyexamples.com/pandas/pandas-apply-function-usage-examples/<br>\n",
    "https://queirozf.com/entries/pandas-dataframes-apply-examples<br>\n",
    "use dataframe.astype() to convert data types<br>\n",
    "see example here: https://sparkbyexamples.com/pandas/pandas-convert-string-to-float-type-dataframe/<br>\n",
    "expectation: all data in three columns is converted into float.\n"
   ]
  },
  {
   "cell_type": "code",
   "execution_count": 6,
   "id": "3f633a4b-6dd0-49e4-8dbd-3101a832d45a",
   "metadata": {
    "nbgrader": {
     "grade": true,
     "grade_id": "cell-7723af80a9766a3e",
     "locked": false,
     "points": 10,
     "schema_version": 3,
     "solution": true,
     "task": false
    },
    "tags": []
   },
   "outputs": [
    {
     "data": {
      "text/html": [
       "<div>\n",
       "<style scoped>\n",
       "    .dataframe tbody tr th:only-of-type {\n",
       "        vertical-align: middle;\n",
       "    }\n",
       "\n",
       "    .dataframe tbody tr th {\n",
       "        vertical-align: top;\n",
       "    }\n",
       "\n",
       "    .dataframe thead th {\n",
       "        text-align: right;\n",
       "    }\n",
       "</style>\n",
       "<table border=\"1\" class=\"dataframe\">\n",
       "  <thead>\n",
       "    <tr style=\"text-align: right;\">\n",
       "      <th></th>\n",
       "      <th>Country</th>\n",
       "      <th>Total (km2)</th>\n",
       "      <th>Land (km2)</th>\n",
       "      <th>Water (km2)</th>\n",
       "    </tr>\n",
       "  </thead>\n",
       "  <tbody>\n",
       "    <tr>\n",
       "      <th>1</th>\n",
       "      <td>Afghanistan</td>\n",
       "      <td>652864.0</td>\n",
       "      <td>652864.0</td>\n",
       "      <td>0.0</td>\n",
       "    </tr>\n",
       "    <tr>\n",
       "      <th>4</th>\n",
       "      <td>Albania</td>\n",
       "      <td>28748.0</td>\n",
       "      <td>27398.0</td>\n",
       "      <td>1350.0</td>\n",
       "    </tr>\n",
       "    <tr>\n",
       "      <th>5</th>\n",
       "      <td>Algeria</td>\n",
       "      <td>2381741.0</td>\n",
       "      <td>2381741.0</td>\n",
       "      <td>0.0</td>\n",
       "    </tr>\n",
       "    <tr>\n",
       "      <th>6</th>\n",
       "      <td>American Samoa</td>\n",
       "      <td>199.0</td>\n",
       "      <td>199.0</td>\n",
       "      <td>0.0</td>\n",
       "    </tr>\n",
       "    <tr>\n",
       "      <th>7</th>\n",
       "      <td>Andorra</td>\n",
       "      <td>468.0</td>\n",
       "      <td>468.0</td>\n",
       "      <td>0.0</td>\n",
       "    </tr>\n",
       "  </tbody>\n",
       "</table>\n",
       "</div>"
      ],
      "text/plain": [
       "          Country  Total (km2)  Land (km2)  Water (km2)\n",
       "1     Afghanistan     652864.0    652864.0          0.0\n",
       "4         Albania      28748.0     27398.0       1350.0\n",
       "5         Algeria    2381741.0   2381741.0          0.0\n",
       "6  American Samoa        199.0       199.0          0.0\n",
       "7         Andorra        468.0       468.0          0.0"
      ]
     },
     "execution_count": 6,
     "metadata": {},
     "output_type": "execute_result"
    }
   ],
   "source": [
    "###BEGIN SOLUTION\n",
    "df_geo['Water (km2)'] = df_geo['Water (km2)'].apply(lambda x: x.replace(\",\", \"\") )\n",
    "df_geo['Total (km2)'] = df_geo['Total (km2)'].apply(lambda x: x.replace(\",\", \"\") )\n",
    "df_geo['Land (km2)'] = df_geo['Land (km2)'].apply(lambda x: x.replace(\",\", \"\") )\n",
    "\n",
    "#df_geo[['Total (km2)','Land (km2)','Water (km2)' ]] = \n",
    "df_geo = df_geo.astype({ 'Total (km2)': 'float', 'Land (km2)': 'float','Water (km2)': 'float'}, copy=False)\n",
    "df_geo.head()\n",
    "###END SOLUTION"
   ]
  },
  {
   "cell_type": "markdown",
   "id": "6a85ed3d-4b18-4c6e-9b05-9dc22389ba70",
   "metadata": {
    "nbgrader": {
     "grade": false,
     "grade_id": "cell-964422c1598629e3",
     "locked": true,
     "schema_version": 3,
     "solution": false,
     "task": false
    },
    "tags": []
   },
   "source": [
    "# Task 05: Set index \n",
    "We will concatenate dataframes in next tasks. To do that we have to set index for each dataframe and make sure index must be unique. So, <b>set each dataframe index using column \"Country\" </b> and if there is a duplication in any index, keep the first occurence and remove the rest . You do not need to create any variable for this task<br>\n",
    "Hint: use DataFrame.set_index(), use Series.duplicated(keep = 'first')<br>\n",
    "Note: Once you set_index('column_name'), that column is no longer a feature (data field), but index<br>\n",
    "Expectation: all dataframes have index set up and shapes as follows \n",
    "(244, 6)\n",
    "(233, 1)\n",
    "(246, 3)\n",
    "(195, 3)\n",
    "(246, 2)"
   ]
  },
  {
   "cell_type": "code",
   "execution_count": 7,
   "id": "cfb5db24-3580-4c4e-b2c4-9a7ea81d4254",
   "metadata": {
    "nbgrader": {
     "grade": true,
     "grade_id": "cell-cc9b589e55b44ce3",
     "locked": false,
     "points": 10,
     "schema_version": 3,
     "solution": true,
     "task": false
    },
    "tags": []
   },
   "outputs": [
    {
     "name": "stdout",
     "output_type": "stream",
     "text": [
      "(244, 6)\n",
      "(233, 1)\n",
      "(246, 3)\n",
      "(195, 3)\n",
      "(246, 2)\n"
     ]
    }
   ],
   "source": [
    "###BEGIN SOLUTION\n",
    "df_codes.set_index('Country', inplace=True)\n",
    "df_demo.set_index('Country', inplace=True)\n",
    "df_geo.set_index('Country', inplace=True)\n",
    "df_gov.set_index('Country', inplace=True)\n",
    "df_regions.set_index('Country', inplace=True)\n",
    "\n",
    "df_codes = df_codes.loc[~df_codes.index.duplicated(keep='first')]\n",
    "df_demo = df_demo.loc[~df_demo.index.duplicated(keep='first')]\n",
    "df_geo = df_geo.loc[~df_geo.index.duplicated(keep='first')]\n",
    "df_gov = df_gov.loc[~df_gov.index.duplicated(keep='first')]\n",
    "df_regions = df_regions.loc[~df_regions.index.duplicated(keep='first')]\n",
    "\n",
    "print(df_codes.shape)\n",
    "print(df_demo.shape)\n",
    "print(df_geo.shape)\n",
    "print(df_gov.shape)\n",
    "print(df_regions.shape)\n",
    "\n",
    "###END SOLUTION"
   ]
  },
  {
   "cell_type": "markdown",
   "id": "59117552-1761-419c-9d35-f322f63f9456",
   "metadata": {
    "nbgrader": {
     "grade": false,
     "grade_id": "cell-6d5cb0f812abbbe1",
     "locked": true,
     "schema_version": 3,
     "solution": false,
     "task": false
    },
    "tags": []
   },
   "source": [
    "# Task 06: Concatenation and Selection\n",
    "Create a dataframe containing Country (as index), Capital, and Alpha2 code. The dataframe needs to include countries in both df_codes <i>and</i> df_gov<br>\n",
    "Requirement: you have to use pandas.concat() <br>\n",
    "Expectation: a dataframe with shape = (184, 2)"
   ]
  },
  {
   "cell_type": "code",
   "execution_count": 8,
   "id": "09ea63eb-ca8d-4dfd-8eb0-291b224080b3",
   "metadata": {
    "nbgrader": {
     "grade": true,
     "grade_id": "cell-45228a719142685c",
     "locked": false,
     "points": 10,
     "schema_version": 3,
     "solution": true,
     "task": false
    },
    "tags": []
   },
   "outputs": [
    {
     "name": "stdout",
     "output_type": "stream",
     "text": [
      "(184, 2)\n"
     ]
    },
    {
     "data": {
      "text/html": [
       "<div>\n",
       "<style scoped>\n",
       "    .dataframe tbody tr th:only-of-type {\n",
       "        vertical-align: middle;\n",
       "    }\n",
       "\n",
       "    .dataframe tbody tr th {\n",
       "        vertical-align: top;\n",
       "    }\n",
       "\n",
       "    .dataframe thead th {\n",
       "        text-align: right;\n",
       "    }\n",
       "</style>\n",
       "<table border=\"1\" class=\"dataframe\">\n",
       "  <thead>\n",
       "    <tr style=\"text-align: right;\">\n",
       "      <th></th>\n",
       "      <th>Capital</th>\n",
       "      <th>Alpha-2 code</th>\n",
       "    </tr>\n",
       "    <tr>\n",
       "      <th>Country</th>\n",
       "      <th></th>\n",
       "      <th></th>\n",
       "    </tr>\n",
       "  </thead>\n",
       "  <tbody>\n",
       "    <tr>\n",
       "      <th>Afghanistan</th>\n",
       "      <td>Kabul</td>\n",
       "      <td>AF</td>\n",
       "    </tr>\n",
       "    <tr>\n",
       "      <th>Albania</th>\n",
       "      <td>Tirana</td>\n",
       "      <td>AL</td>\n",
       "    </tr>\n",
       "    <tr>\n",
       "      <th>Algeria</th>\n",
       "      <td>Algiers</td>\n",
       "      <td>DZ</td>\n",
       "    </tr>\n",
       "    <tr>\n",
       "      <th>Andorra</th>\n",
       "      <td>Andorra la Vella</td>\n",
       "      <td>AD</td>\n",
       "    </tr>\n",
       "    <tr>\n",
       "      <th>Angola</th>\n",
       "      <td>Luanda</td>\n",
       "      <td>AO</td>\n",
       "    </tr>\n",
       "  </tbody>\n",
       "</table>\n",
       "</div>"
      ],
      "text/plain": [
       "                      Capital Alpha-2 code\n",
       "Country                                   \n",
       "Afghanistan             Kabul           AF\n",
       "Albania                Tirana           AL\n",
       "Algeria               Algiers           DZ\n",
       "Andorra      Andorra la Vella           AD\n",
       "Angola                 Luanda           AO"
      ]
     },
     "execution_count": 8,
     "metadata": {},
     "output_type": "execute_result"
    }
   ],
   "source": [
    "###BEGIN SOLUTION\n",
    "t6 = pd.concat([df_codes, df_gov], axis='columns', join=\"inner\")[[\"Capital\", \"Alpha-2 code\"]]\n",
    "print(t6.shape)\n",
    "t6.head()\n",
    "###END SOLUTION"
   ]
  },
  {
   "cell_type": "markdown",
   "id": "48df0661-246e-495c-b7ce-1c80b230e346",
   "metadata": {
    "nbgrader": {
     "grade": false,
     "grade_id": "cell-935e752c3cba1e96",
     "locked": true,
     "schema_version": 3,
     "solution": false,
     "task": false
    },
    "tags": []
   },
   "source": [
    "# Task 07: Concatenation and Selection (more)\n",
    "\n",
    "Create a dataframe containing Country (as index), Total (km2), Land (km2), Water(km2), Population, and Continent. The dataframe needs to include countries in all df_demo, df_geo <i>and</i> df_regions <br>\n",
    "Requirement: you have to use pandas.concat()<br>\n",
    "Expectation: a dataframe with shape = (212, 5)\n"
   ]
  },
  {
   "cell_type": "code",
   "execution_count": 9,
   "id": "f532464c-1e04-444b-aca3-89e0550af6bd",
   "metadata": {
    "nbgrader": {
     "grade": true,
     "grade_id": "cell-ae3c34cd2e9eeea2",
     "locked": false,
     "points": 10,
     "schema_version": 3,
     "solution": true,
     "task": false
    },
    "tags": []
   },
   "outputs": [
    {
     "name": "stdout",
     "output_type": "stream",
     "text": [
      "(212, 5)\n"
     ]
    },
    {
     "data": {
      "text/html": [
       "<div>\n",
       "<style scoped>\n",
       "    .dataframe tbody tr th:only-of-type {\n",
       "        vertical-align: middle;\n",
       "    }\n",
       "\n",
       "    .dataframe tbody tr th {\n",
       "        vertical-align: top;\n",
       "    }\n",
       "\n",
       "    .dataframe thead th {\n",
       "        text-align: right;\n",
       "    }\n",
       "</style>\n",
       "<table border=\"1\" class=\"dataframe\">\n",
       "  <thead>\n",
       "    <tr style=\"text-align: right;\">\n",
       "      <th></th>\n",
       "      <th>Total (km2)</th>\n",
       "      <th>Land (km2)</th>\n",
       "      <th>Water (km2)</th>\n",
       "      <th>Population</th>\n",
       "      <th>Continent</th>\n",
       "    </tr>\n",
       "    <tr>\n",
       "      <th>Country</th>\n",
       "      <th></th>\n",
       "      <th></th>\n",
       "      <th></th>\n",
       "      <th></th>\n",
       "      <th></th>\n",
       "    </tr>\n",
       "  </thead>\n",
       "  <tbody>\n",
       "    <tr>\n",
       "      <th>Afghanistan</th>\n",
       "      <td>652864.0</td>\n",
       "      <td>652864.0</td>\n",
       "      <td>0.0</td>\n",
       "      <td>38041754</td>\n",
       "      <td>Asia</td>\n",
       "    </tr>\n",
       "    <tr>\n",
       "      <th>Albania</th>\n",
       "      <td>28748.0</td>\n",
       "      <td>27398.0</td>\n",
       "      <td>1350.0</td>\n",
       "      <td>2880917</td>\n",
       "      <td>Europe</td>\n",
       "    </tr>\n",
       "    <tr>\n",
       "      <th>Algeria</th>\n",
       "      <td>2381741.0</td>\n",
       "      <td>2381741.0</td>\n",
       "      <td>0.0</td>\n",
       "      <td>43053054</td>\n",
       "      <td>Africa</td>\n",
       "    </tr>\n",
       "    <tr>\n",
       "      <th>American Samoa</th>\n",
       "      <td>199.0</td>\n",
       "      <td>199.0</td>\n",
       "      <td>0.0</td>\n",
       "      <td>55312</td>\n",
       "      <td>Oceania</td>\n",
       "    </tr>\n",
       "    <tr>\n",
       "      <th>Andorra</th>\n",
       "      <td>468.0</td>\n",
       "      <td>468.0</td>\n",
       "      <td>0.0</td>\n",
       "      <td>77142</td>\n",
       "      <td>Europe</td>\n",
       "    </tr>\n",
       "  </tbody>\n",
       "</table>\n",
       "</div>"
      ],
      "text/plain": [
       "                Total (km2)  Land (km2)  Water (km2)  Population Continent\n",
       "Country                                                                   \n",
       "Afghanistan        652864.0    652864.0          0.0    38041754      Asia\n",
       "Albania             28748.0     27398.0       1350.0     2880917    Europe\n",
       "Algeria           2381741.0   2381741.0          0.0    43053054    Africa\n",
       "American Samoa        199.0       199.0          0.0       55312   Oceania\n",
       "Andorra               468.0       468.0          0.0       77142    Europe"
      ]
     },
     "execution_count": 9,
     "metadata": {},
     "output_type": "execute_result"
    }
   ],
   "source": [
    "###BEGIN SOLUTION\n",
    "t7 = pd.concat([df_demo, df_geo, df_regions], axis='columns', join = 'inner')[[\"Total (km2)\", \"Land (km2)\", \"Water (km2)\", \"Population\", \"Continent\"]]\n",
    "print(t7.shape)\n",
    "t7.head()\n",
    "###END SOLUTION\n"
   ]
  },
  {
   "cell_type": "markdown",
   "id": "fbd06a5f-1bcf-4259-838c-c5eb243ff736",
   "metadata": {
    "nbgrader": {
     "grade": false,
     "grade_id": "cell-7b54ae3ac27f05c8",
     "locked": true,
     "schema_version": 3,
     "solution": false,
     "task": false
    },
    "tags": []
   },
   "source": [
    "# Task 08: Computing\n",
    "From the resutled dataframe in Task 07, count number of countries by Continent \n",
    "Expectation: a Series with index = Continents, and 6 values "
   ]
  },
  {
   "cell_type": "code",
   "execution_count": 10,
   "id": "0659778a-1bd7-4ee0-a72d-ca6fc9f4151a",
   "metadata": {
    "nbgrader": {
     "grade": true,
     "grade_id": "cell-2fe0d8ed1e17a697",
     "locked": false,
     "points": 10,
     "schema_version": 3,
     "solution": true,
     "task": false
    },
    "tags": []
   },
   "outputs": [
    {
     "name": "stdout",
     "output_type": "stream",
     "text": [
      "Africa           50\n",
      "Asia             46\n",
      "Europe           46\n",
      "North America    35\n",
      "Oceania          22\n",
      "South America    13\n",
      "Name: Continent, dtype: int64\n"
     ]
    }
   ],
   "source": [
    "###BEGIN SOLUTION\n",
    "t8 = t7.Continent.value_counts()\n",
    "print(t8)\n",
    "###END SOLUTION\n"
   ]
  },
  {
   "cell_type": "markdown",
   "id": "48d88133-dd89-4a8e-be57-3b11861f9d9a",
   "metadata": {
    "nbgrader": {
     "grade": false,
     "grade_id": "cell-b5ab3082c9572bb7",
     "locked": true,
     "schema_version": 3,
     "solution": false,
     "task": false
    },
    "tags": []
   },
   "source": [
    "# Task 09: Computing (more)\n",
    "From the resutled dataframe in Task 07, compute population by Continent <br>\n",
    "Note: you are not allowed to use `groupby`<br>\n",
    "Expectation:<br>\n",
    "`Continent      |Population    |`<br>\n",
    "`Africa         | 1,185,561,387|`<br>\n",
    "`Asia           | 4,516,395,203|`<br>\n",
    "`Europe         |   746,961,814|`<br>\n",
    "`North America  |   586,569,152|`<br>\n",
    "`Oceania        |    42,019,638|`<br>\n",
    "`South America  |   426,908,614|`"
   ]
  },
  {
   "cell_type": "code",
   "execution_count": 11,
   "id": "7781da6d-55d7-4f88-b970-6759692b8a31",
   "metadata": {
    "nbgrader": {
     "grade": true,
     "grade_id": "cell-d8955f4d347fe1ae",
     "locked": false,
     "points": 0,
     "schema_version": 3,
     "solution": true,
     "task": false
    },
    "tags": []
   },
   "outputs": [
    {
     "name": "stdout",
     "output_type": "stream",
     "text": [
      "Continent      |Population    |\n",
      "Africa         | 1,185,561,387|\n",
      "Asia           | 4,516,395,203|\n",
      "Europe         |   746,961,814|\n",
      "North America  |   586,569,152|\n",
      "Oceania        |    42,019,638|\n",
      "South America  |   426,908,614|\n"
     ]
    }
   ],
   "source": [
    "###BEGIN SOLUTION\n",
    "c, p = 'Continent','Population' \n",
    "print(f'{c:15}|{p:14}|')\n",
    "for continent in t8.index:\n",
    "    p = t7[t7.Continent == continent].Population.sum()\n",
    "    print(f'{continent:15}|{p:14,}|')\n",
    "###END SOLUTION"
   ]
  },
  {
   "cell_type": "markdown",
   "id": "d091e541-6552-4e6d-a0a7-3500a3971549",
   "metadata": {
    "nbgrader": {
     "grade": false,
     "grade_id": "cell-12ab2ac4f2e5993e",
     "locked": true,
     "schema_version": 3,
     "solution": false,
     "task": false
    },
    "tags": []
   },
   "source": [
    "# Task 10: Computing (more)\n",
    "From the resutled dataframe in Task 07, compute and print the follows:<br>\n",
    "Population for each continent<br>\n",
    "Total (km2) for each continent<br>\n",
    "Note: you are not allowed to use `groupby`\n",
    "Expectation: <br>\n",
    "\n",
    "`Continent      |Population    |Total (km2)  `<br>\n",
    "`Africa         | 1,185,561,387| 27,039,456.0`<br>\n",
    "`Asia           | 4,516,395,203| 31,870,744.0`<br>\n",
    "`Europe         |   746,961,814| 23,149,819.0`<br>\n",
    "`North America  |   586,569,152| 24,393,692.0`<br>\n",
    "`Oceania        |    42,019,638|  8,514,379.0`<br>\n",
    "`South America  |   426,908,614| 17,745,029.0`\n",
    "`\n"
   ]
  },
  {
   "cell_type": "code",
   "execution_count": 12,
   "id": "dc84ae47-963e-450d-9a66-97f59318a91e",
   "metadata": {
    "nbgrader": {
     "grade": true,
     "grade_id": "cell-d2d1b0ecf870ed4f",
     "locked": false,
     "points": 10,
     "schema_version": 3,
     "solution": true,
     "task": false
    },
    "tags": []
   },
   "outputs": [
    {
     "name": "stdout",
     "output_type": "stream",
     "text": [
      "Continent      |Population    |Total (km2)  \n",
      "Africa         | 1,185,561,387| 27,039,456.0\n",
      "Asia           | 4,516,395,203| 31,870,744.0\n",
      "Europe         |   746,961,814| 23,149,819.0\n",
      "North America  |   586,569,152| 24,393,692.0\n",
      "Oceania        |    42,019,638|  8,514,379.0\n",
      "South America  |   426,908,614| 17,745,029.0\n"
     ]
    }
   ],
   "source": [
    "###BEGIN SOLUTION\n",
    "c, p, km2 = 'Continent','Population', 'Total (km2)' \n",
    "print(f'{c:15}|{p:14}|{km2:13}')\n",
    "for continent in t8.index:\n",
    "    p = t7[t7.Continent == continent].Population.sum()\n",
    "    km2 = t7[t7.Continent == continent]['Total (km2)'].sum()\n",
    "    print(f'{continent:15}|{p:14,}|{km2:13,}')\n",
    "###END SOLUTION"
   ]
  },
  {
   "cell_type": "markdown",
   "id": "6369de72-b624-454f-9ad7-13d9a75cf816",
   "metadata": {
    "nbgrader": {
     "grade": false,
     "grade_id": "cell-e6f0164a6e69a293",
     "locked": true,
     "schema_version": 3,
     "solution": false,
     "task": false
    },
    "tags": []
   },
   "source": [
    "# Task 11: computing and sorting\n",
    "Create a dataframe containing 4 columns: Continent, Population, Total (km2) (from task 10) and Km2_person, where Km2_person is the ratio of Total (km2) to Population. Sort the dataframe by Km2_person with descending order\n",
    "expectation: a dataframe, shape = (6,4)"
   ]
  },
  {
   "cell_type": "code",
   "execution_count": 13,
   "id": "369edeb1-952d-4850-b974-42435d860c02",
   "metadata": {
    "nbgrader": {
     "grade": true,
     "grade_id": "cell-f1d20f84807c8c5e",
     "locked": false,
     "points": 10,
     "schema_version": 3,
     "solution": true,
     "task": false
    },
    "tags": []
   },
   "outputs": [
    {
     "name": "stdout",
     "output_type": "stream",
     "text": [
      "(6, 4)\n"
     ]
    }
   ],
   "source": [
    "###BEGIN SOLUTION\n",
    "cs, ps, km2s = [],[],[]\n",
    "for continent in t8.index:\n",
    "    p = t7[t7.Continent == continent].Population.sum()\n",
    "    km2 = t7[t7.Continent == continent]['Total (km2)'].sum()\n",
    "#    print(f'{continent:15}|{p:14,}|{km2:13,}')\n",
    "    cs.append(continent)\n",
    "    ps.append(p)\n",
    "    km2s.append(km2)\n",
    "\n",
    "t11 = pd.DataFrame(data = {'Continent': cs, 'Population':ps, 'Total (km2)': km2s})\n",
    "t11['Km2_person'] = t11['Total (km2)']/t11.Population\n",
    "t11.sort_values(by = ['Km2_person'], ascending =False, inplace=True)\n",
    "print(t11.shape)\n",
    "t11.head()\n",
    "t11.to_csv(\"./continents.csv\")\n",
    "###END SOLUTION"
   ]
  },
  {
   "cell_type": "code",
   "execution_count": null,
   "id": "b6d6cc02-3bde-4f23-aa44-f25db8ea9ebe",
   "metadata": {},
   "outputs": [],
   "source": []
  }
 ],
 "metadata": {
  "kernelspec": {
   "display_name": "DS320 (Python3.10)",
   "language": "python",
   "name": "ds320"
  },
  "language_info": {
   "codemirror_mode": {
    "name": "ipython",
    "version": 3
   },
   "file_extension": ".py",
   "mimetype": "text/x-python",
   "name": "python",
   "nbconvert_exporter": "python",
   "pygments_lexer": "ipython3",
   "version": "3.10.8"
  }
 },
 "nbformat": 4,
 "nbformat_minor": 5
}
