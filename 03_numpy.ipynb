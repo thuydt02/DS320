{
 "cells": [
  {
   "cell_type": "markdown",
   "id": "68ce94a5-369c-4eb8-b082-18d8d910b1e8",
   "metadata": {},
   "source": [
    "<b><font size = 3>NumPy</font></b><br>\n",
    "NumPy, short for Numerical Python, is one of the most important foundational packages for <b>numerical computing</b> in Python. It is designed for <b>efficiency on large arrays of data</b>:<br> \n",
    "<itemize>\n",
    "<ul>\n",
    "    <li>internally stores data in a contiguous block of memory.</li>\n",
    "    <li>uses much less memory than built-in Python sequences</li>\n",
    "    <li>performs computations on the entire arrays (in parallel manner) without the need of for loops </li>\n",
    "    <li>written in C language (the fastest language)\n",
    "</ul>\n",
    "        \n",
    "       \n",
    "We will study:\n",
    "<ol>\n",
    "<!--    <li>ndarray object internals</li> -->\n",
    "    <li>creating ndarrays</li>\n",
    "    <li>vectorization (arithmetic with NumPy arrays)</li>\n",
    "    <li>indexing and slicing</li>\n",
    "    <li>Pseudorandom number generation</li>\n",
    "    <li>universal functions</li>\n",
    "    <li>array-oriented programming</li>\n",
    "    <li>linear algebra</li>\n",
    "    <li>concatenating</li>\n",
    "    <li>broadcasting</li>  \n",
    "    <li>reading csv files</li>\n",
    "</ol>\n",
    "\n",
    "\n"
   ]
  },
  {
   "cell_type": "markdown",
   "id": "c052bd8c-6960-497c-a772-e1d4adfa1027",
   "metadata": {},
   "source": [
    "#1 creating an array<br>\n",
    "#---one dimension arrays (1darrays)<br>\n",
    "#---multidimension: ndarray = 1darray of arrays<br>\n",
    "#---shape and data type of an array: shape, dtype, reshape \n",
    "#---NumPy-based algorithms are much faster than their pure Python counterparts: 10-100 times faster<br>\n",
    "#---special arrays: numpy.zeros(), numpy.ones(), numpy.empty(), numpy.eyes()"
   ]
  },
  {
   "cell_type": "code",
   "execution_count": 72,
   "id": "089d535c-1be7-4cb9-89e9-5ce778c21639",
   "metadata": {},
   "outputs": [
    {
     "name": "stdout",
     "output_type": "stream",
     "text": [
      "[1 2 3 4 5]\n",
      "[11 22 33]\n",
      "[11 22 33]\n",
      "[[1 2 3]\n",
      " [4 5 6]\n",
      " [7 8 9]]\n"
     ]
    }
   ],
   "source": [
    "#---we need to import the package numpy\n",
    "#---we will use 3 functions (array, asarray, arange) to create an array: \n",
    "#---a = np.array(a_sequence) => it will create a NEW array containing the passed data in a_sequence\n",
    "#---a = np.asarray(a_sequence) => it will create a NEW array containing the passed data in a_sequence if NEEDED\n",
    "#---a = np.arange([start], stop, [step]) => a numpy version or the range() function. It will create a NEW array\n",
    "\n",
    "\n",
    "import numpy as np\n",
    "\n",
    "#---creating 1darrays\n",
    "\n",
    "a1d = np.array([1, 2, 3, 4, 5]) \n",
    "print(a1d)\n",
    "\n",
    "a1d1 = np.asarray([11, 22, 33])\n",
    "\n",
    "print(a1d1)\n",
    "a1d[0] = 100\n",
    "print(a1d1)\n",
    "#---creating ndarrays\n",
    "a = np.array([[1, 2, 3],[4, 5, 6], [7, 8, 9]])\n",
    "print(a)\n",
    "\n"
   ]
  },
  {
   "cell_type": "code",
   "execution_count": 73,
   "id": "7935209c-4652-4838-912b-1cd4f067f99f",
   "metadata": {},
   "outputs": [
    {
     "name": "stdout",
     "output_type": "stream",
     "text": [
      "[ 4  8 12]\n"
     ]
    }
   ],
   "source": [
    "#2 vectorization\n",
    "#--- element-wise operations on equal-size arrays: +, -, *, /, >, >=, <, <=, ==, !=, **, >>, <<, ...\n",
    "#--- operations with scalars propagate the scalar argument to each element in the array\n",
    "\n",
    "\n",
    "a1 = np.array([1, 2, 3])\n",
    "a2 = np.array([2, 2, 2])\n",
    "b = a1 ** a2\n",
    "b = a1 << a2\n",
    "print(b)\n",
    "\n",
    "b = a1 * 100"
   ]
  },
  {
   "cell_type": "code",
   "execution_count": 75,
   "id": "65d0a596-5d44-4f6b-a5a5-ac0c228891da",
   "metadata": {},
   "outputs": [
    {
     "name": "stdout",
     "output_type": "stream",
     "text": [
      "[100   5   6   7   8   9  10]\n"
     ]
    }
   ],
   "source": [
    "#3 indexing and slicing\n",
    "#--- that is the way you select element(s) from an array.\n",
    "#--- select just one element a[i]; a[i][j]; a[i,j] \n",
    "#--- select multiple elements\n",
    "#------in a continuous range of indices: slicing (working on views)\n",
    "#------not in a continuous range of indices (creating a new array): (1) boolean indexing and (2) integer array indexing.\n",
    "\n",
    "a = np.array([1, 2, 3, 4, 5, 6, 7, 8, 9, 10])\n",
    "\n",
    "#1 get me all elements from the beginning up to the position 5, inclusively\n",
    "b = a[0:5]\n",
    "b[0] = 100\n",
    "\n",
    "#2 get me numbers >= 5\n",
    "mask = a >=5 \n",
    "b = a[mask]\n",
    "print(b)\n",
    "\n",
    "#3 get me elements in the positions 1, 3, 5\n",
    "\n",
    "indices = [1, 3, 5]\n",
    "b = a[indices]\n",
    "\n",
    "#4 get me all rows which have the value 5 (your turn)\n",
    "\n"
   ]
  },
  {
   "cell_type": "code",
   "execution_count": 64,
   "id": "45041f59-4dac-448a-8c8e-2c4ade70fafd",
   "metadata": {},
   "outputs": [
    {
     "name": "stdout",
     "output_type": "stream",
     "text": [
      "[1 4 3 5 2]\n"
     ]
    }
   ],
   "source": [
    "#4 Pseudorandom number generation\n",
    "#---generate an array of sample values from a distribution\n",
    "#---note: Because of randomness you may get different sample values in \n",
    "#---different runs. The seed here is to make sure you get the same \n",
    "#---sample values for everytime you run the code.\n",
    "rng = np.random.default_rng(seed=12345)\n",
    "a = rng.standard_normal(10)\n",
    "#print(a)\n",
    "\n",
    "b = np.array([1, 2, 3, 4, 5])\n",
    "permu1 = np.random.permutation(b)\n",
    "print(permu1)\n"
   ]
  },
  {
   "cell_type": "code",
   "execution_count": 77,
   "id": "05838322-e5e3-452e-8ebf-e1c090260097",
   "metadata": {},
   "outputs": [
    {
     "name": "stdout",
     "output_type": "stream",
     "text": [
      "[ 1  9 25 49 81]\n",
      "[ 2 12 30 56 90]\n"
     ]
    }
   ],
   "source": [
    "#5 universal functions\n",
    "#---They perform element-wise operations on ndarrays => very fast.\n",
    "#---There are 2 kinds of universal functions: unary and binary\n",
    "#---unary: just takes one ndarray as an input parameter.\n",
    "#---binary: takes 2 same-size ndarrays as inputs\n",
    "#---Note: most of universal functions have equivalent operators. For example, \n",
    "#---you can the add() function or the + operator to perform the same thing: \n",
    "#---adding 2 ndarrays \n",
    "\n",
    "#---example: unary function \"square\"\n",
    "a = np.array([1, 3, 5, 7, 9])\n",
    "b = np.square(a)\n",
    "print(b)\n",
    "\n",
    "#---example: binary function \"add\"\n",
    "c = np.add(a,b)\n",
    "print(c)"
   ]
  },
  {
   "cell_type": "code",
   "execution_count": 86,
   "id": "364366f4-b515-4a1d-a754-22c236718711",
   "metadata": {},
   "outputs": [
    {
     "name": "stdout",
     "output_type": "stream",
     "text": [
      "[ 1 12  3 14  5]\n",
      "[1 0 3 0 5]\n",
      "1.8\n",
      "1.8\n"
     ]
    }
   ],
   "source": [
    "#6 array-oriented programming\n",
    "#--- like function-oriented proramming: we try to divide a program into sub\n",
    "#--- programs, called functions, and combine them together to solve a problem\n",
    "#--- here array-oriented means we try to use an advantage of the very fast computation on numbers\n",
    "#--- to accelerate the computing time.\n",
    "#--- the key for this is vectorization which you have learned\n",
    "#--- and now we will see some functions in this direction.\n",
    "#--- the takeaway here is to avoid for loops as many as you can.\n",
    "\n",
    "#--- conditional logic: numpy.where()\n",
    "#--- mathemetical and statistical functions: sum, mean, std, max, min, \n",
    "#--- cumsum (cumulative sum),cumprod (cumulative product), argmin, argmax\n",
    "#--- sorting: the sort() function\n",
    "#--- see the section 4.4 for more functions\n",
    "\n",
    "#--- z = np.where(condition, x, y) => z will be x if condition is true, y otherwise\n",
    "#--- z and condition must be numpy arrays with the same size\n",
    "#--- x and y can be arrays or a scalars. If arrays, it must have the same size\n",
    "#--- with condition\n",
    "\n",
    "#--- x, y, z and mask have the same size\n",
    "x,y = np.array([1, 2, 3, 4, 5]), np.array([11, 12, 13, 14, 15])\n",
    "mask = np.array([True, False, True, False, True])\n",
    "z = np.where(mask, x, y)\n",
    "print (z)\n",
    "\n",
    "#--- y is just a scalar: 0\n",
    "z = np.where(mask, x, 0)\n",
    "print(z)\n",
    "#z= ?\n",
    "\n",
    "#--- mean, min, max ...\n",
    "meanz = np.mean(z)\n",
    "print(meanz)\n",
    "meanz = z.mean()\n",
    "print(meanz)\n"
   ]
  },
  {
   "cell_type": "code",
   "execution_count": null,
   "id": "e8c8d824-0fc5-4300-bdb6-914a26767542",
   "metadata": {},
   "outputs": [],
   "source": [
    "#7 linear algebra\n",
    "# your turn: read and practice the section algebra at home"
   ]
  },
  {
   "cell_type": "code",
   "execution_count": 109,
   "id": "a923ea9a-2839-44ab-8ca3-d228a17c0bbc",
   "metadata": {},
   "outputs": [
    {
     "name": "stdout",
     "output_type": "stream",
     "text": [
      "[[ 0.30471708 -1.03998411  0.7504512   0.94056472 -1.95103519]\n",
      " [-1.30217951  0.1278404  -0.31624259 -0.01680116 -0.85304393]\n",
      " [ 0.87939797  0.77779194  0.0660307   1.12724121  0.46750934]\n",
      " [-0.85929246  0.36875078 -0.9588826   0.8784503  -0.04992591]\n",
      " [-0.18486236 -0.68092954  1.22254134 -0.15452948 -0.42832782]]\n",
      "[[ 0.         -1.03998411  0.7504512   0.94056472 -1.95103519]\n",
      " [-1.30217951  0.1278404  -0.31624259 -0.01680116 -0.85304393]\n",
      " [ 0.87939797  0.77779194  0.0660307   1.12724121  0.46750934]\n",
      " [-0.85929246  0.36875078 -0.9588826   0.8784503  -0.04992591]\n",
      " [-0.18486236 -0.68092954  1.22254134 -0.15452948 -0.42832782]]\n"
     ]
    }
   ],
   "source": [
    "#8 concatenating and spliting\n",
    "\n",
    "#--- numpy.concatenate() take a sequence (tuple, list, set, ...) of nparrays\n",
    "#--- and join them in order along the input axis\n",
    "#--- convenience functions: vstack, hstack\n",
    "\n",
    "#--- numpy.split() takes a numpy array and locations and the splits the \n",
    "#--- array into subarrays as views\n",
    "\n",
    "#--- example: concatnate 2 nparrays along rows\n",
    "\n",
    "rng = np.random.default_rng(seed = 42)\n",
    "a = rng.standard_normal(size = (5, 5))\n",
    "b = np.array([[1, 2, 3, 4, 5], [6, 7, 8, 9, 10]])\n",
    "c = np.concatenate((a, b), axis = 0)\n",
    "\n",
    "b = np.aray([[1],\n",
    "            [2],\n",
    "            [5],\n",
    "            [4],\n",
    "            [5]])\n",
    "\n",
    "#print(c)\n",
    "#--- example: concatnate 2 nparrays along cols\n",
    "\n",
    "#--- example: split\n",
    "\n",
    "rng = np.random.default_rng(seed = 42)\n",
    "a = rng.standard_normal(size = (5, 5))\n",
    "print(a)\n",
    "x, y, z = np.split(a, [1,2])\n",
    "\n",
    "x[0,0] = 0\n",
    "print(a)\n",
    "\n",
    "\n"
   ]
  },
  {
   "cell_type": "code",
   "execution_count": 112,
   "id": "38646b14-d767-483f-bd27-34fe4f5101b1",
   "metadata": {},
   "outputs": [
    {
     "name": "stdout",
     "output_type": "stream",
     "text": [
      "[[  11   12   13]\n",
      " [ 104  105  106]\n",
      " [1007 1008 1009]]\n"
     ]
    }
   ],
   "source": [
    "#9 broadcasting\n",
    "#--- idea here is broadcasting to use vectorization: accelerate computing time\n",
    "#--- motivated example: \n",
    "\n",
    "a = np.array([[1, 2, 3],[4, 5, 6],[7, 8, 9]])\n",
    "#a = a + [10, 100, 1000] # in rows\n",
    "a = a + [[10],\n",
    "     [100],\n",
    "     [1000]]\n",
    "print(a)\n",
    "\n",
    "#--- => the array [10, 100, 1000] will be broadcasted thru all rows of the \n",
    "#--- array a. Then the Python intepreter will do element-wise adding \n",
    "#--- (vectorization) the array a and the broadcasted array. Here the broadcasted\n",
    "#--- array is \n",
    "#--- [[10, 100, 1000],\n",
    "#---  [10, 100, 1000],\n",
    "#---  [10, 100, 1000]]\n",
    "\n"
   ]
  },
  {
   "cell_type": "code",
   "execution_count": 114,
   "id": "1116b4d3-24cc-4c63-8e12-e0bfa07849cc",
   "metadata": {},
   "outputs": [
    {
     "name": "stdout",
     "output_type": "stream",
     "text": [
      "(263, 3)\n",
      "[[    8660       -1       -1]\n",
      " [  652864       -1       -1]\n",
      " [     254       -1       -1]\n",
      " [    1580       -1       -1]\n",
      " [   28748       -1       -1]\n",
      " [ 2381741       -1      381]\n",
      " [     199      199        0]\n",
      " [     468      468        0]\n",
      " [ 1246700       -1      246]\n",
      " [      91       91        0]\n",
      " [14200000       -1      200]\n",
      " [     442      443        0]\n",
      " [ 2780400       -1      736]\n",
      " [   29743       -1       -1]\n",
      " [    3170       -1       -1]\n",
      " [     180      180        0]\n",
      " [       5        5        0]\n",
      " [ 7692024       -1      633]\n",
      " [   83871       -1       -1]\n",
      " [   86600       -1       -1]]\n"
     ]
    }
   ],
   "source": [
    "#10 reading and writing csv files\n",
    "#--- reading use the numpy.genfromtext() method\n",
    "#--- writing: use the savetxt() method\n",
    "\n",
    "#---example: reading numbers in the file world_geo.csv\n",
    "#---skip the first column (because it is text), skip the first row (header)\n",
    "#--- \n",
    "\n",
    "#\n",
    "fname = \"./data/world_geo.csv\"\n",
    "\n",
    "usecols = (1, 2, 3)\n",
    "data = np.genfromtxt(fname, delimiter=',', skip_header=1, usecols=usecols, dtype=int)\n",
    "print(data.shape)\n",
    "print(data[:20])\n",
    "\n",
    "np.savetxt(fname + \"_copy\", data, delimiter = \",\",  fmt='%i')\n",
    "\n",
    "\n",
    "\n"
   ]
  },
  {
   "cell_type": "code",
   "execution_count": null,
   "id": "460b12e4-b38d-4a3b-9d8f-aa672ef8a9f7",
   "metadata": {},
   "outputs": [],
   "source": [
    "df[df.van > 5]\n"
   ]
  }
 ],
 "metadata": {
  "kernelspec": {
   "display_name": "DS320 (Python3.10)",
   "language": "python",
   "name": "ds320"
  },
  "language_info": {
   "codemirror_mode": {
    "name": "ipython",
    "version": 3
   },
   "file_extension": ".py",
   "mimetype": "text/x-python",
   "name": "python",
   "nbconvert_exporter": "python",
   "pygments_lexer": "ipython3",
   "version": "3.10.8"
  }
 },
 "nbformat": 4,
 "nbformat_minor": 5
}
